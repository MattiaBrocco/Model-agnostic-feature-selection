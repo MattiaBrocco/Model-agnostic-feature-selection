{
 "cells": [
  {
   "cell_type": "markdown",
   "id": "yIfQ_I7dxXM1",
   "metadata": {
    "id": "yIfQ_I7dxXM1"
   },
   "source": [
    "# Cognitive, Behavioral and Social Data\n",
    "---\n",
    "##### A.A. 2022/2023\n",
    "##### Authors\n",
    "| Student | ID |\n",
    "| --- | --- |\n",
    "| Brocco Mattia | 2044714 |\n",
    "| Gianfrate Flavia | 2038501 |\n",
    "| Roveroni Emma | 2058618 |\n",
    "| Tesser Marco | 2058223 |\n",
    "\n",
    "## *Aim of the project*\n",
    "This study focuses on the replicability of finding relevant predictors for lie detection in various psychometric tests concerning medicine, behavioral science and data science that have been compiled twice, once honestly and once dishonestly.\n",
    "More precisely, the goal is to develop a framework for feature selection that leads to good and similar results for different models used for the discrimination of honesty and dishonesty of test responses. Accuracy, Top-5 stability and Accuracy Standard Deviation are the metrics used to evaluate the results.\n",
    "\n",
    "## *Datasets*\n",
    "The datasets used for this project are 16 and each of them represents the results of a given questionnaire. Each questionnaire is related to a different topic and so has specific questions. These datasets are independent between them and for each one of them, the subjects are asked to answer honestly to the question and then to retake the questionnaire but this time faking good or bad, depending on the objective of the questionnaire. This means that in each dataset we have the same number of honest and dishonest answers. The datasets are built in the same way: each column corresponds to a question and the target column is an honest/dishonest attribute. In particular, each questionnaire is composed of Likert-scaled questions: the answers of the respondents measure their agreement with the questions. In the following table are reported the name of each dataset with the related topics and dimensions. \n",
    "\n",
    "<style type=\"text/css\">\n",
    ".tg  {border-collapse:collapse;border-spacing:0;}\n",
    ".tg td{border-color:black;border-style:solid;border-width:1px;font-family:Arial, sans-serif;font-size:14px;\n",
    "  overflow:hidden;padding:10px 5px;word-break:normal;}\n",
    ".tg th{border-color:black;border-style:solid;border-width:1px;font-family:Arial, sans-serif;font-size:14px;\n",
    "  font-weight:normal;overflow:hidden;padding:10px 5px;word-break:normal;}\n",
    ".tg .tg-0pky{border-color:inherit;text-align:left;vertical-align:top}\n",
    "</style>\n",
    "<table class=\"tg\">\n",
    "<thead>\n",
    "  <tr>\n",
    "    <th class=\"tg-0pky\">Name </th>\n",
    "    <th class=\"tg-0pky\">Topic</th>\n",
    "    <th class=\"tg-0pky\">Faking good/faking bad</th>\n",
    "    <th class=\"tg-0pky\">Number of samples</th>\n",
    "    <th class=\"tg-0pky\">Numbers of features</th>\n",
    "  </tr>\n",
    "</thead>\n",
    "<tbody>\n",
    "  <tr>\n",
    "    <td class=\"tg-0pky\">DT_df_CC</td>\n",
    "    <td class=\"tg-0pky\">Short Dark Triad 3 for child costudy</td>\n",
    "    <td class=\"tg-0pky\">Faking good </td>\n",
    "    <td class=\"tg-0pky\">482</td>\n",
    "    <td class=\"tg-0pky\">27</td>\n",
    "  </tr>\n",
    "  <tr>\n",
    "    <td class=\"tg-0pky\">DT_df_JI</td>\n",
    "    <td class=\"tg-0pky\">Short Dark Triad 3  for a job interview </td>\n",
    "    <td class=\"tg-0pky\">Faking good</td>\n",
    "    <td class=\"tg-0pky\">864</td>\n",
    "    <td class=\"tg-0pky\">27</td>\n",
    "  </tr>\n",
    "  <tr>\n",
    "    <td class=\"tg-0pky\">PRMQ_df</td>\n",
    "    <td class=\"tg-0pky\">Identify memory difficulties</td>\n",
    "    <td class=\"tg-0pky\">Faking bad </td>\n",
    "    <td class=\"tg-0pky\">1404</td>\n",
    "    <td class=\"tg-0pky\">16</td>\n",
    "  </tr>\n",
    "  <tr>\n",
    "    <td class=\"tg-0pky\">PCL5_df</td>\n",
    "    <td class=\"tg-0pky\">Identify victims of PTSD</td>\n",
    "    <td class=\"tg-0pky\">Faking bad</td>\n",
    "    <td class=\"tg-0pky\">402</td>\n",
    "    <td class=\"tg-0pky\">20</td>\n",
    "  </tr>\n",
    "  <tr>\n",
    "    <td class=\"tg-0pky\">NAQ_R_df </td>\n",
    "    <td class=\"tg-0pky\">Identify possible victims of mobbing</td>\n",
    "    <td class=\"tg-0pky\">Faking bad</td>\n",
    "    <td class=\"tg-0pky\">712</td>\n",
    "    <td class=\"tg-0pky\">22</td>\n",
    "  </tr>\n",
    "  <tr>\n",
    "    <td class=\"tg-0pky\">PHQ9_GAD7_df</td>\n",
    "    <td class=\"tg-0pky\">Identify possible victims of anxious-depressive syndrom</td>\n",
    "    <td class=\"tg-0pky\">Faking bad</td>\n",
    "    <td class=\"tg-0pky\">1118</td>\n",
    "    <td class=\"tg-0pky\">16</td>\n",
    "  </tr>\n",
    "  <tr>\n",
    "    <td class=\"tg-0pky\">PID5_df</td>\n",
    "    <td class=\"tg-0pky\">Identify mental disorders</td>\n",
    "    <td class=\"tg-0pky\">Faking bad</td>\n",
    "    <td class=\"tg-0pky\">824</td>\n",
    "    <td class=\"tg-0pky\">220</td>\n",
    "  </tr>\n",
    "  <tr>\n",
    "    <td class=\"tg-0pky\">sPID5_df</td>\n",
    "    <td class=\"tg-0pky\">Identify mental disorders </td>\n",
    "    <td class=\"tg-0pky\">Faking bad</td>\n",
    "    <td class=\"tg-0pky\">1038</td>\n",
    "    <td class=\"tg-0pky\">25</td>\n",
    "  </tr>\n",
    "  <tr>\n",
    "    <td class=\"tg-0pky\">PRFQ_df</td>\n",
    "    <td class=\"tg-0pky\">Specific caregivers' ability to mentalize with their children</td>\n",
    "    <td class=\"tg-0pky\">Faking good</td>\n",
    "    <td class=\"tg-0pky\">678</td>\n",
    "    <td class=\"tg-0pky\">18</td>\n",
    "  </tr>\n",
    "  <tr>\n",
    "    <td class=\"tg-0pky\">IESR_df</td>\n",
    "    <td class=\"tg-0pky\">Identify possible victims of PTSD</td>\n",
    "    <td class=\"tg-0pky\">Faking bad</td>\n",
    "    <td class=\"tg-0pky\">358</td>\n",
    "    <td class=\"tg-0pky\">22</td>\n",
    "  </tr>\n",
    "  <tr>\n",
    "    <td class=\"tg-0pky\">R_NEO_PI_df</td>\n",
    "    <td class=\"tg-0pky\">Personality questionnaire (Big5)</td>\n",
    "    <td class=\"tg-0pky\">Faking good</td>\n",
    "    <td class=\"tg-0pky\">77687</td>\n",
    "    <td class=\"tg-0pky\">30</td>\n",
    "  </tr>\n",
    "  <tr>\n",
    "    <td class=\"tg-0pky\">RAW_DDDT_df</td>\n",
    "    <td class=\"tg-0pky\">Identify Dark Triad personality</td>\n",
    "    <td class=\"tg-0pky\">Faking bad</td>\n",
    "    <td class=\"tg-0pky\">986</td>\n",
    "    <td class=\"tg-0pky\">12</td>\n",
    "  </tr>\n",
    "  <tr>\n",
    "    <td class=\"tg-0pky\">IADQ_df</td>\n",
    "    <td class=\"tg-0pky\">Identify adjustment disorder (stress response syndrome)</td>\n",
    "    <td class=\"tg-0pky\">Faking bad</td>\n",
    "    <td class=\"tg-0pky\">450</td>\n",
    "    <td class=\"tg-0pky\">9</td>\n",
    "  </tr>\n",
    "  <tr>\n",
    "    <td class=\"tg-0pky\">BF_df_CTU</td>\n",
    "    <td class=\"tg-0pky\">Job interview for a salesperson position</td>\n",
    "    <td class=\"tg-0pky\">Faking good</td>\n",
    "    <td class=\"tg-0pky\">442</td>\n",
    "    <td class=\"tg-0pky\">10</td>\n",
    "  </tr>\n",
    "  <tr>\n",
    "    <td class=\"tg-0pky\">BF_df_OU</td>\n",
    "    <td class=\"tg-0pky\">Job interview for in humanitarian organization</td>\n",
    "    <td class=\"tg-0pky\">Faking good</td>\n",
    "    <td class=\"tg-0pky\">460</td>\n",
    "    <td class=\"tg-0pky\">10</td>\n",
    "  </tr>\n",
    "  <tr>\n",
    "    <td class=\"tg-0pky\">BF_df_V</td>\n",
    "    <td class=\"tg-0pky\">Obtain child costudy </td>\n",
    "    <td class=\"tg-0pky\">Faking good</td>\n",
    "    <td class=\"tg-0pky\">486</td>\n",
    "    <td class=\"tg-0pky\">10</td>\n",
    "  </tr>\n",
    "</tbody>\n",
    "</table>\n",
    "\n",
    "## *Approaches used*\n",
    "The approaches developed in this project to select the features are the following: \n",
    "  1. **PCA**: select 20% of the total number of features using the principal component analysis.\n",
    "  2. **Permutation importance**: fitted on a random forest, with features selected based on t-test.\n",
    "  3. **Mutual Information**: the features selected by the Joint Mutual Information Maximization (JMIM) algorithm with an importance score of at least 0.8 out of 1 are used.\n",
    "\n",
    "Before applying the methods, the datasets are split into training and test (70%-30%) and for every feature, the mean and the standard deviation are computed in order to scale that feature: $Z=\\frac{X-\\mu}{\\sigma}$. \n",
    "These three methods are independent of each other and each one of them is going to be described in depth later on. \n",
    "\n",
    "## *Models used*\n",
    "Each one of the approaches considered in this project, as mentioned before, selects a number of features from the corresponding original dataset, and then these selected features are used to train different models and to observe their performance. The models trained in this project are: \n",
    "  1. Logistic regression model on all the features (Full LR)\n",
    "  2. Logistic regression model on selected features (LR)\n",
    "  3. Support vector machine (SVM)\n",
    "  4. Random forest (RF)\n",
    "  5. Multi-layer perceptron classifier (MLP) \n",
    "\n",
    "For each of these models is also computed the related accuracy in order to see firstly how good that model is performing with the selected features and secondly to compare the models between them in order to figure out if the selected features give similar performances among all the models. \n",
    "A logistic regression with all the features is trained at the beginning. In this way, it’s possible to have a comparison between the results obtained with the selected features.\n",
    "\n",
    "## *Metrics*\n",
    "\n",
    "* Accuracy: ratio of correct predictions over the number of instances. This has been chosen as all the datasets show a fairly balanced number of examples per class (all are binary classification tasks). The accuracy is computed on the full model (Full LR) as well as all the other four models used for benchmarking and trained only on the subset of features selected by each of the procedures in scope.\n",
    "* Accuracy Standard Deviation: standard deviation of the four models (i.e. LR, SVM, RF, MLP) fitted on the subset of selected features. It is a measure of the consistency of the classification performance across different models, thus the lower the better.\n",
    "* Top-5 stability: a more specific metric for assessing consistency across models (i.e. LR, SVM, RF, MLP). It takes into account the first five most important features used by each of the models, the formula developed is:  \n",
    "<center>\n",
    "    $TOP5 Stability=1-\\big(\\frac{1}{(\\# models-1)*\\min{(5,|\\Omega|)}} \\sum^{\\min{(5,|\\Omega|)}}_{i=1}{|\\beta_{i}|-1}\\big)$\n",
    "</center>\n",
    "where $\\Omega$ is the set of features selected by a procedure, i.e. $\\Omega=\\{\\beta_1,...,\\beta_n\\}$; $\\beta_i$ is a vector with the feature selected with importance $i$ across the models (notice that in our case $\\# models=4$). Finally, $|\\beta_i|$ is the number of unique values in $\\beta_i$.</p>\n",
    "\n",
    "\n",
    "## *Structure of the code*\n",
    "```\n",
    "Brocco_Gianfrate_Roveroni_Tesser.ipynb (main notebook)\n",
    "├── engine.py (pipeline for Mutual Information & JMIM)\n",
    "|    └── Classification\n",
    "|        ├── prepare_data : data import and train-test split.\n",
    "|        ├── variable_selection : Mutual information feature selection procedure\n",
    "|        ├── benchmark_models : model benchmarking.\n",
    "|        └── mutual_info : JMIM feature selection procedure.\n",
    "├── evaluation.py (functions for assessing performances)\n",
    "|    ├── stability_metric : compute top5-stability metric.\n",
    "|    ├── lasso_benchmark : further feature selection to assess the strength of regularization.\n",
    "|    ├── graphical_lasso_benchmark : plot of the previous function.\n",
    "|    ├── just_benchmarking : model benchmarking.\n",
    "|    └── summary_table : comprehensive table of results obtained (always diplayed here)\n",
    "├── pca_engine.py (dedicated engine for PCA)\n",
    "|    ├── prepare_data : data import.\n",
    "|    ├── pca_ds_acc : feature selection procedure.\n",
    "|    └── trts_split : split train-test for model benchmarking.\n",
    "├── summary_graphs.py (functions for graphs)\n",
    "|    ├── accuracy_barplot : plot of mean accuracies of the models used per dataset used with standard errors.\n",
    "|    ├── accuracy_std : plot of standard deviation of accuracies of the models used per dataset.\n",
    "|    └── faking_type_comparison : plot of accuracies (of models used and full model) per dataset, split by faking type.\n",
    "└── support.py (other functions used during development)\n",
    "     ├── likelihood_ratio_test : Wilks test to assess the goodness of fit of two nested models.\n",
    "     ├── D3_pruning : cost-complexity pruning\n",
    "     ├── sorted_importance_index : finds the 5 most important features for each model (always displayed here)\n",
    "     ├── scores_table : prints the number of features selected\n",
    "     ├── build_MLP : build and train a shallow neural network\n",
    "     └── data_to_feather : technical details for file coonversion and sharing\n",
    "```"
   ]
  },
  {
   "cell_type": "code",
   "execution_count": null,
   "id": "3f6cda3e",
   "metadata": {
    "ExecuteTime": {
     "end_time": "2023-01-05T14:36:05.205362Z",
     "start_time": "2023-01-05T14:35:40.815288Z"
    },
    "id": "3f6cda3e"
   },
   "outputs": [],
   "source": [
    "import os\n",
    "\n",
    "# COPIA QUI LA DIRECTORY DOVE HAI R\n",
    "os.environ[\"R_HOME\"] = r\"C:\\Program Files\\R\\R-4.0.2\"\n",
    "#os.environ[\"R_LIBS_USER\"] = r\"C:/Program Files/R/R-4.0.2/library/stats/libs/x64\"\n",
    "\n",
    "import sys\n",
    "import warnings\n",
    "import numpy as np\n",
    "import pandas as pd\n",
    "import seaborn as sns\n",
    "import matplotlib.pyplot as plt\n",
    "\n",
    "import support\n",
    "import evaluation\n",
    "import pca_engine\n",
    "import summary_graphs\n",
    "from engine import Classification\n",
    "\n",
    "%load_ext autoreload\n",
    "%autoreload 2\n",
    "\n",
    "data_dir = \".\\\\data\"\n",
    "\n",
    "warnings.filterwarnings(\"ignore\")\n",
    "pd.options.display.max_columns = 500"
   ]
  },
  {
   "cell_type": "markdown",
   "id": "7b0b0806",
   "metadata": {
    "id": "7b0b0806"
   },
   "source": [
    "### Principal Components Analysis (PCA)"
   ]
  },
  {
   "cell_type": "markdown",
   "id": "-JuGDVpbzcr4",
   "metadata": {
    "id": "-JuGDVpbzcr4"
   },
   "source": [
    "The first attempt realizes to accomplish the request of the project involves the use of Principal Component Analysis (PCA).\n",
    "The starting point for this approach is that the number of features that need to be kept in the dataset is 20% of the total number of features. \n",
    "The first step is to compute a PCA that selects the number of components such that the amount of variance explained is 90%. \n",
    "Once the PCA has been calculated, it provides useful information on how to decide which variables will be kept in each of the datasets.  \n",
    "This is done through (i) a vector of the percentages of variance explained by each of the selected components, (ii) a matrix that stores, for each of the obtained components, a value for each of the initial set of variables. This value indicates how influential that feature is for a given component thus, the higher the value the more important the feature is. These values of importance are used later to establish the order of selection of the features.  \n",
    "Subsequently, the percentage of how much each component is \"important\" is computed, where importance, in this case, means how much variance is explaining that component with respect to the total.\n",
    "This information is very useful in deciding how many variables it is right to take from each component. For each component, a number of variables are taken such that it is proportionate to how much variability that component explains compared to our total of about 90%.\n",
    "The selected features, after being divided into train and test sets, are used to fit and train the different models (logistic regression, random forest, SVM, and a neural network). \n",
    "The results accomplished with this approach are shown in the following table and plots.\n",
    "\n",
    "The code reference can be found in the file `pca_engine.py` and the function is `pca_ds_acc`.\n",
    "\n",
    "\n",
    "**Observation**: The same procedure was experimentally run with resized datasets, i.e. the PCA was performed with the datasets that contain only the honest samples. With these different datasets, the results were actually worse and thus we decided to maintain the complete datasets."
   ]
  },
  {
   "cell_type": "code",
   "execution_count": null,
   "id": "d9950039",
   "metadata": {
    "ExecuteTime": {
     "end_time": "2023-01-05T14:42:16.660269Z",
     "start_time": "2023-01-05T14:36:05.213387Z"
    },
    "colab": {
     "referenced_widgets": [
      "b07ecb8853404f799422b4e880e55f83",
      "4b2fd84a867c4d059ee4da5eb37a16c8",
      "d1e6bf3a07a9439b936836a838ed382e",
      "22e207bc0b574280bdbbbb585904f3d5",
      "6870b2c0625b473899c5dd522b22ce58",
      "3aeff767e98942bfad35927ffc189642",
      "181c29f69d2e451c9ca29375bc3935b4",
      "e79edece5147414f8f78d8935b776881",
      "a04c3847fd1b4d0681720405b3c04c0f",
      "b64fcda8e2b44195a967e46a7bd8a91a",
      "1c7aee13262e4dbba50b25eee7467b6c",
      "dc41e23d9df3496a9386388cc1029c3a",
      "551b1910bc294142b60db695a953e007",
      "8ef576c1370d467c9efe714f2a536fd0",
      "7c7d5eb426c6424682df1ecb521d8cee",
      "eef9b737fbdc44268214c78fd7819784",
      "2df9951912f644b1829c51663d62bff8",
      "15c508213e39433a87895120dfd1e4ed",
      "bd167f0158f94e04998b5376f0234960",
      "8b59bef13ff04312a8f17b39c584de10",
      "73f1e61bffdc45499056ff28415e7274",
      "5852e71ccfa84212a17e0f37392f14c2",
      "ce49d00fb3c44ebfbd95def572dd2fdb",
      "c08c442d556347ec9de8f5272af1e64d",
      "1f99a07174484e7bab3e4842db27c0df",
      "8dd71f3b329c4aae89e5a5f797e6cf82",
      "0b68960763b64d26b00d2caf18e39c7c",
      "d124ff981a314677a15f7d05ce7d3fd5",
      "4ed5518ddfd040f98e82216942bc73bb",
      "44d8ffc7e824491d9719b4cdf12cc26c",
      "c7474cc8bb4c48c4a551174dfe98e48f",
      "30bbf59c085743e7ade4bb8c2b3c08ea"
     ]
    },
    "id": "d9950039",
    "outputId": "660956d3-c553-40cb-c59f-aade74121090",
    "scrolled": true
   },
   "outputs": [
    {
     "name": "stdout",
     "output_type": "stream",
     "text": [
      "BF_df_CTU\n"
     ]
    },
    {
     "data": {
      "application/vnd.jupyter.widget-view+json": {
       "model_id": "2df9951912f644b1829c51663d62bff8",
       "version_major": 2,
       "version_minor": 0
      },
      "text/plain": [
       "  0%|          | 0/100 [00:00<?, ?it/s]"
      ]
     },
     "metadata": {},
     "output_type": "display_data"
    },
    {
     "name": "stdout",
     "output_type": "stream",
     "text": [
      "5/5 [==============================] - 0s 1ms/step\n",
      "Train size: 309\n",
      "Selected 2 features out of 10\n",
      "[8, 6]\n",
      "                     Accuracy  FI 1  FI 2\n",
      "Full Logit           0.774436   NaN   NaN\n",
      "Logistic Regression  0.736842   6.0   8.0\n",
      "SVC                  0.736842   6.0   8.0\n",
      "Random Forest        0.736842   6.0   8.0\n",
      "Neural Network       0.669173   6.0   8.0\n",
      "\n",
      "==> TOP5 STABILITY SCORE: 1.0\n",
      "----------------------------------------------------------------------------------------------------\n",
      "----------------------------------------------------------------------------------------------------\n",
      "----------------------------------------------------------------------------------------------------\n",
      "\n",
      "BF_df_OU\n"
     ]
    },
    {
     "data": {
      "application/vnd.jupyter.widget-view+json": {
       "model_id": "15c508213e39433a87895120dfd1e4ed",
       "version_major": 2,
       "version_minor": 0
      },
      "text/plain": [
       "  0%|          | 0/100 [00:00<?, ?it/s]"
      ]
     },
     "metadata": {},
     "output_type": "display_data"
    },
    {
     "name": "stdout",
     "output_type": "stream",
     "text": [
      "5/5 [==============================] - 0s 2ms/step\n",
      "Train size: 322\n",
      "Selected 2 features out of 10\n",
      "[1, 6]\n",
      "                     Accuracy  FI 1  FI 2\n",
      "Full Logit            0.84058   NaN   NaN\n",
      "Logistic Regression   0.76087   6.0   1.0\n",
      "SVC                   0.76087   6.0   1.0\n",
      "Random Forest         0.76087   6.0   1.0\n",
      "Neural Network        0.76087   6.0   1.0\n",
      "\n",
      "==> TOP5 STABILITY SCORE: 1.0\n",
      "----------------------------------------------------------------------------------------------------\n",
      "----------------------------------------------------------------------------------------------------\n",
      "----------------------------------------------------------------------------------------------------\n",
      "\n",
      "BF_df_V\n"
     ]
    },
    {
     "data": {
      "application/vnd.jupyter.widget-view+json": {
       "model_id": "bd167f0158f94e04998b5376f0234960",
       "version_major": 2,
       "version_minor": 0
      },
      "text/plain": [
       "  0%|          | 0/100 [00:00<?, ?it/s]"
      ]
     },
     "metadata": {},
     "output_type": "display_data"
    },
    {
     "name": "stdout",
     "output_type": "stream",
     "text": [
      "5/5 [==============================] - 0s 2ms/step\n",
      "Train size: 340\n",
      "Selected 2 features out of 10\n",
      "[1, 7]\n",
      "                     Accuracy  FI 1  FI 2\n",
      "Full Logit           0.767123   NaN   NaN\n",
      "Logistic Regression  0.691781   7.0   1.0\n",
      "SVC                  0.684932   7.0   1.0\n",
      "Random Forest        0.684932   7.0   1.0\n",
      "Neural Network       0.678082   7.0   1.0\n",
      "\n",
      "==> TOP5 STABILITY SCORE: 1.0\n",
      "----------------------------------------------------------------------------------------------------\n",
      "----------------------------------------------------------------------------------------------------\n",
      "----------------------------------------------------------------------------------------------------\n",
      "\n",
      "DT_df_CC\n"
     ]
    },
    {
     "data": {
      "application/vnd.jupyter.widget-view+json": {
       "model_id": "8b59bef13ff04312a8f17b39c584de10",
       "version_major": 2,
       "version_minor": 0
      },
      "text/plain": [
       "  0%|          | 0/100 [00:00<?, ?it/s]"
      ]
     },
     "metadata": {},
     "output_type": "display_data"
    },
    {
     "name": "stdout",
     "output_type": "stream",
     "text": [
      "5/5 [==============================] - 0s 3ms/step\n",
      "Train size: 337\n",
      "Selected 6 features out of 27\n",
      "[1, 4, 10, 19, 21, 23]\n",
      "                     Accuracy  FI 1  FI 2  FI 3  FI 4  FI 5\n",
      "Full Logit           0.682759   NaN   NaN   NaN   NaN   NaN\n",
      "Logistic Regression  0.675862  10.0   4.0   1.0  19.0  21.0\n",
      "SVC                  0.689655  10.0   4.0   1.0  19.0  21.0\n",
      "Random Forest        0.710345  10.0   4.0   1.0  23.0  21.0\n",
      "Neural Network       0.675862  10.0  21.0   4.0   1.0  19.0\n",
      "\n",
      "==> TOP5 STABILITY SCORE: 0.667\n",
      "----------------------------------------------------------------------------------------------------\n",
      "----------------------------------------------------------------------------------------------------\n",
      "----------------------------------------------------------------------------------------------------\n",
      "\n",
      "DT_df_JI\n"
     ]
    },
    {
     "data": {
      "application/vnd.jupyter.widget-view+json": {
       "model_id": "73f1e61bffdc45499056ff28415e7274",
       "version_major": 2,
       "version_minor": 0
      },
      "text/plain": [
       "  0%|          | 0/100 [00:00<?, ?it/s]"
      ]
     },
     "metadata": {},
     "output_type": "display_data"
    },
    {
     "name": "stdout",
     "output_type": "stream",
     "text": [
      "9/9 [==============================] - 0s 2ms/step\n",
      "Train size: 604\n",
      "Selected 6 features out of 27\n",
      "[0, 1, 2, 12, 15, 19]\n",
      "                     Accuracy  FI 1  FI 2  FI 3  FI 4  FI 5\n",
      "Full Logit           0.661538   NaN   NaN   NaN   NaN   NaN\n",
      "Logistic Regression  0.600000   2.0  19.0  15.0  12.0   0.0\n",
      "SVC                  0.596154   2.0  19.0  15.0  12.0   0.0\n",
      "Random Forest        0.573077   2.0  19.0  15.0  12.0   1.0\n",
      "Neural Network       0.626923   2.0  15.0  19.0  12.0   0.0\n",
      "\n",
      "==> TOP5 STABILITY SCORE: 0.8\n",
      "----------------------------------------------------------------------------------------------------\n",
      "----------------------------------------------------------------------------------------------------\n",
      "----------------------------------------------------------------------------------------------------\n",
      "\n",
      "IADQ_df\n"
     ]
    },
    {
     "data": {
      "application/vnd.jupyter.widget-view+json": {
       "model_id": "5852e71ccfa84212a17e0f37392f14c2",
       "version_major": 2,
       "version_minor": 0
      },
      "text/plain": [
       "  0%|          | 0/100 [00:00<?, ?it/s]"
      ]
     },
     "metadata": {},
     "output_type": "display_data"
    },
    {
     "name": "stdout",
     "output_type": "stream",
     "text": [
      "5/5 [==============================] - 0s 2ms/step\n",
      "Train size: 315\n",
      "Selected 2 features out of 9\n",
      "[1, 7]\n",
      "                     Accuracy  FI 1  FI 2\n",
      "Full Logit           0.844444   NaN   NaN\n",
      "Logistic Regression  0.844444   1.0   7.0\n",
      "SVC                  0.844444   1.0   7.0\n",
      "Random Forest        0.837037   1.0   7.0\n",
      "Neural Network       0.725926   1.0   7.0\n",
      "\n",
      "==> TOP5 STABILITY SCORE: 1.0\n",
      "----------------------------------------------------------------------------------------------------\n",
      "----------------------------------------------------------------------------------------------------\n",
      "----------------------------------------------------------------------------------------------------\n",
      "\n",
      "IESR_df\n"
     ]
    },
    {
     "data": {
      "application/vnd.jupyter.widget-view+json": {
       "model_id": "ce49d00fb3c44ebfbd95def572dd2fdb",
       "version_major": 2,
       "version_minor": 0
      },
      "text/plain": [
       "  0%|          | 0/100 [00:00<?, ?it/s]"
      ]
     },
     "metadata": {},
     "output_type": "display_data"
    },
    {
     "name": "stdout",
     "output_type": "stream",
     "text": [
      "4/4 [==============================] - 0s 3ms/step\n",
      "Train size: 250\n",
      "Selected 5 features out of 22\n",
      "[4, 8, 13, 15, 18]\n",
      "                     Accuracy  FI 1  FI 2  FI 3  FI 4  FI 5\n",
      "Full Logit           0.925926   NaN   NaN   NaN   NaN   NaN\n",
      "Logistic Regression  0.925926   8.0  18.0  13.0  15.0   4.0\n",
      "SVC                  0.916667   8.0  18.0  13.0  15.0   4.0\n",
      "Random Forest        0.907407  13.0   8.0  18.0  15.0   4.0\n",
      "Neural Network       0.870370  18.0   8.0  13.0   4.0  15.0\n",
      "\n",
      "==> TOP5 STABILITY SCORE: 0.6\n",
      "----------------------------------------------------------------------------------------------------\n",
      "----------------------------------------------------------------------------------------------------\n",
      "----------------------------------------------------------------------------------------------------\n",
      "\n",
      "NAQ_R_df\n"
     ]
    },
    {
     "data": {
      "application/vnd.jupyter.widget-view+json": {
       "model_id": "c08c442d556347ec9de8f5272af1e64d",
       "version_major": 2,
       "version_minor": 0
      },
      "text/plain": [
       "  0%|          | 0/100 [00:00<?, ?it/s]"
      ]
     },
     "metadata": {},
     "output_type": "display_data"
    },
    {
     "name": "stdout",
     "output_type": "stream",
     "text": [
      "7/7 [==============================] - 0s 2ms/step\n",
      "Train size: 498\n",
      "Selected 5 features out of 22\n",
      "[8, 9, 12, 14, 19]\n",
      "                     Accuracy  FI 1  FI 2  FI 3  FI 4  FI 5\n",
      "Full Logit           0.948598   NaN   NaN   NaN   NaN   NaN\n",
      "Logistic Regression  0.967290   9.0  12.0   8.0  19.0  14.0\n",
      "SVC                  0.967290   9.0  12.0   8.0  19.0  14.0\n",
      "Random Forest        0.953271  19.0   8.0   9.0  12.0  14.0\n",
      "Neural Network       0.967290   9.0  19.0  12.0   8.0  14.0\n",
      "\n",
      "==> TOP5 STABILITY SCORE: 0.533\n",
      "----------------------------------------------------------------------------------------------------\n",
      "----------------------------------------------------------------------------------------------------\n",
      "----------------------------------------------------------------------------------------------------\n",
      "\n",
      "PCL5_df\n"
     ]
    },
    {
     "data": {
      "application/vnd.jupyter.widget-view+json": {
       "model_id": "1f99a07174484e7bab3e4842db27c0df",
       "version_major": 2,
       "version_minor": 0
      },
      "text/plain": [
       "  0%|          | 0/100 [00:00<?, ?it/s]"
      ]
     },
     "metadata": {},
     "output_type": "display_data"
    },
    {
     "name": "stdout",
     "output_type": "stream",
     "text": [
      "4/4 [==============================] - 0s 2ms/step\n",
      "Train size: 281\n",
      "Selected 4 features out of 20\n",
      "[1, 10, 4, 12]\n",
      "                     Accuracy  FI 1  FI 2  FI 3  FI 4\n",
      "Full Logit           0.785124   NaN   NaN   NaN   NaN\n",
      "Logistic Regression  0.793388   4.0   1.0  10.0  12.0\n",
      "SVC                  0.834711   4.0   1.0  12.0  10.0\n",
      "Random Forest        0.809917   4.0   1.0  12.0  10.0\n",
      "Neural Network       0.809917   4.0   1.0  12.0  10.0\n",
      "\n",
      "==> TOP5 STABILITY SCORE: 0.833\n",
      "----------------------------------------------------------------------------------------------------\n",
      "----------------------------------------------------------------------------------------------------\n",
      "----------------------------------------------------------------------------------------------------\n",
      "\n",
      "PHQ9_GAD7_df\n"
     ]
    },
    {
     "data": {
      "application/vnd.jupyter.widget-view+json": {
       "model_id": "8dd71f3b329c4aae89e5a5f797e6cf82",
       "version_major": 2,
       "version_minor": 0
      },
      "text/plain": [
       "  0%|          | 0/100 [00:00<?, ?it/s]"
      ]
     },
     "metadata": {},
     "output_type": "display_data"
    },
    {
     "name": "stdout",
     "output_type": "stream",
     "text": [
      "11/11 [==============================] - 0s 1ms/step\n",
      "Train size: 782\n",
      "Selected 3 features out of 16\n",
      "[1, 13, 7]\n",
      "                     Accuracy  FI 1  FI 2  FI 3\n",
      "Full Logit           0.988095   NaN   NaN   NaN\n",
      "Logistic Regression  0.973214   7.0   1.0  13.0\n",
      "SVC                  0.973214   7.0   1.0  13.0\n",
      "Random Forest        0.958333   7.0   1.0  13.0\n",
      "Neural Network       0.967262   7.0   1.0  13.0\n",
      "\n",
      "==> TOP5 STABILITY SCORE: 1.0\n",
      "----------------------------------------------------------------------------------------------------\n",
      "----------------------------------------------------------------------------------------------------\n",
      "----------------------------------------------------------------------------------------------------\n",
      "\n",
      "PID5_df\n"
     ]
    },
    {
     "data": {
      "application/vnd.jupyter.widget-view+json": {
       "model_id": "0b68960763b64d26b00d2caf18e39c7c",
       "version_major": 2,
       "version_minor": 0
      },
      "text/plain": [
       "  0%|          | 0/100 [00:00<?, ?it/s]"
      ]
     },
     "metadata": {},
     "output_type": "display_data"
    },
    {
     "name": "stdout",
     "output_type": "stream",
     "text": [
      "8/8 [==============================] - 0s 2ms/step\n",
      "Train size: 576\n",
      "Selected 43 features out of 220\n",
      "[1, 131, 4, 6, 8, 138, 14, 151, 152, 153, 23, 35, 36, 165, 164, 171, 172, 175, 176, 49, 53, 182, 184, 62, 191, 197, 71, 201, 204, 205, 206, 211, 85, 216, 218, 219, 92, 94, 98, 101, 103, 108, 121]\n",
      "                     Accuracy  FI 1   FI 2   FI 3   FI 4   FI 5\n",
      "Full Logit           0.959677   NaN    NaN    NaN    NaN    NaN\n",
      "Logistic Regression  0.939516   1.0   35.0  165.0  171.0  101.0\n",
      "SVC                  0.931452   1.0  165.0   35.0  171.0  101.0\n",
      "Random Forest        0.943548   1.0    4.0   35.0  108.0  121.0\n",
      "Neural Network       0.923387   1.0  191.0    4.0  131.0  138.0\n",
      "\n",
      "==> TOP5 STABILITY SCORE: 0.4\n",
      "----------------------------------------------------------------------------------------------------\n",
      "----------------------------------------------------------------------------------------------------\n",
      "----------------------------------------------------------------------------------------------------\n",
      "\n",
      "PRFQ_df\n"
     ]
    },
    {
     "data": {
      "application/vnd.jupyter.widget-view+json": {
       "model_id": "d124ff981a314677a15f7d05ce7d3fd5",
       "version_major": 2,
       "version_minor": 0
      },
      "text/plain": [
       "  0%|          | 0/100 [00:00<?, ?it/s]"
      ]
     },
     "metadata": {},
     "output_type": "display_data"
    },
    {
     "name": "stdout",
     "output_type": "stream",
     "text": [
      "7/7 [==============================] - 0s 2ms/step\n",
      "Train size: 474\n",
      "Selected 4 features out of 18\n",
      "[3, 13, 14, 7]\n",
      "                     Accuracy  FI 1  FI 2  FI 3  FI 4\n",
      "Full Logit           0.936275   NaN   NaN   NaN   NaN\n",
      "Logistic Regression  0.857843   7.0  13.0   3.0  14.0\n",
      "SVC                  0.843137   7.0  13.0   3.0  14.0\n",
      "Random Forest        0.852941   7.0  14.0  13.0   3.0\n",
      "Neural Network       0.833333   7.0  14.0  13.0   3.0\n",
      "\n",
      "==> TOP5 STABILITY SCORE: 0.75\n",
      "----------------------------------------------------------------------------------------------------\n",
      "----------------------------------------------------------------------------------------------------\n",
      "----------------------------------------------------------------------------------------------------\n",
      "\n",
      "PRMQ_df\n"
     ]
    },
    {
     "data": {
      "application/vnd.jupyter.widget-view+json": {
       "model_id": "4ed5518ddfd040f98e82216942bc73bb",
       "version_major": 2,
       "version_minor": 0
      },
      "text/plain": [
       "  0%|          | 0/100 [00:00<?, ?it/s]"
      ]
     },
     "metadata": {},
     "output_type": "display_data"
    },
    {
     "name": "stdout",
     "output_type": "stream",
     "text": [
      "14/14 [==============================] - 0s 2ms/step\n",
      "Train size: 982\n",
      "Selected 3 features out of 16\n",
      "[0, 1, 7]\n",
      "                     Accuracy  FI 1  FI 2  FI 3\n",
      "Full Logit           0.907583   NaN   NaN   NaN\n",
      "Logistic Regression  0.876777   1.0   7.0   0.0\n",
      "SVC                  0.872038   1.0   7.0   0.0\n",
      "Random Forest        0.890995   7.0   1.0   0.0\n",
      "Neural Network       0.876777   7.0   1.0   0.0\n",
      "\n",
      "==> TOP5 STABILITY SCORE: 0.778\n",
      "----------------------------------------------------------------------------------------------------\n",
      "----------------------------------------------------------------------------------------------------\n",
      "----------------------------------------------------------------------------------------------------\n",
      "\n",
      "RAW_DDDT\n"
     ]
    },
    {
     "data": {
      "application/vnd.jupyter.widget-view+json": {
       "model_id": "44d8ffc7e824491d9719b4cdf12cc26c",
       "version_major": 2,
       "version_minor": 0
      },
      "text/plain": [
       "  0%|          | 0/100 [00:00<?, ?it/s]"
      ]
     },
     "metadata": {},
     "output_type": "display_data"
    },
    {
     "name": "stdout",
     "output_type": "stream",
     "text": [
      "10/10 [==============================] - 0s 2ms/step\n",
      "Train size: 690\n",
      "Selected 3 features out of 12\n",
      "[8, 0, 5]\n",
      "                     Accuracy  FI 1  FI 2  FI 3\n",
      "Full Logit           0.746622   NaN   NaN   NaN\n",
      "Logistic Regression  0.662162   0.0   8.0   5.0\n",
      "SVC                  0.658784   0.0   8.0   5.0\n",
      "Random Forest        0.706081   0.0   5.0   8.0\n",
      "Neural Network       0.655405   0.0   8.0   5.0\n",
      "\n",
      "==> TOP5 STABILITY SCORE: 0.778\n",
      "----------------------------------------------------------------------------------------------------\n",
      "----------------------------------------------------------------------------------------------------\n",
      "----------------------------------------------------------------------------------------------------\n",
      "\n",
      "R_NEO_PI\n"
     ]
    },
    {
     "data": {
      "application/vnd.jupyter.widget-view+json": {
       "model_id": "c7474cc8bb4c48c4a551174dfe98e48f",
       "version_major": 2,
       "version_minor": 0
      },
      "text/plain": [
       "  0%|          | 0/100 [00:00<?, ?it/s]"
      ]
     },
     "metadata": {},
     "output_type": "display_data"
    },
    {
     "name": "stdout",
     "output_type": "stream",
     "text": [
      "729/729 [==============================] - 1s 1ms/step\n",
      "Train size: 54380\n",
      "Selected 5 features out of 30\n",
      "[1, 5, 11, 21, 29]\n",
      "                     Accuracy  FI 1  FI 2  FI 3  FI 4  FI 5\n",
      "Full Logit           0.907195   NaN   NaN   NaN   NaN   NaN\n",
      "Logistic Regression  0.900459  21.0   5.0  29.0   1.0  11.0\n",
      "SVC                  0.898271  21.0   5.0  29.0  11.0   1.0\n",
      "Random Forest        0.901146  21.0   5.0  29.0   1.0  11.0\n",
      "Neural Network       0.898743  21.0   5.0  29.0   1.0  11.0\n",
      "\n",
      "==> TOP5 STABILITY SCORE: 0.867\n",
      "----------------------------------------------------------------------------------------------------\n",
      "----------------------------------------------------------------------------------------------------\n",
      "----------------------------------------------------------------------------------------------------\n",
      "\n",
      "sPID-5_df\n"
     ]
    },
    {
     "data": {
      "application/vnd.jupyter.widget-view+json": {
       "model_id": "30bbf59c085743e7ade4bb8c2b3c08ea",
       "version_major": 2,
       "version_minor": 0
      },
      "text/plain": [
       "  0%|          | 0/100 [00:00<?, ?it/s]"
      ]
     },
     "metadata": {},
     "output_type": "display_data"
    },
    {
     "name": "stdout",
     "output_type": "stream",
     "text": [
      "10/10 [==============================] - 0s 1ms/step\n",
      "Train size: 726\n",
      "Selected 5 features out of 25\n",
      "[4, 7, 8, 20, 23]\n",
      "                     Accuracy  FI 1  FI 2  FI 3  FI 4  FI 5\n",
      "Full Logit           0.958333   NaN   NaN   NaN   NaN   NaN\n",
      "Logistic Regression  0.935897  23.0  20.0   4.0   8.0   7.0\n",
      "SVC                  0.939103  23.0   4.0  20.0   8.0   7.0\n",
      "Random Forest        0.942308  23.0  20.0   4.0   7.0   8.0\n",
      "Neural Network       0.932692  23.0  20.0   4.0   8.0   7.0\n",
      "\n",
      "==> TOP5 STABILITY SCORE: 0.733\n",
      "----------------------------------------------------------------------------------------------------\n",
      "----------------------------------------------------------------------------------------------------\n",
      "----------------------------------------------------------------------------------------------------\n",
      "\n"
     ]
    }
   ],
   "source": [
    "data_collection_pca = {}\n",
    "for dataset in [f for f in os.listdir(data_dir) if \"parquet\" in f]:\n",
    "    print(dataset.split(\".\")[0])\n",
    "    \n",
    "    data_iter = pca_engine.prepare_data(f\"{data_dir}\\\\{dataset}\", \"CONDITION\")\n",
    "    #data_mwu = pca_engine.new_mwu_data(data_iter)\n",
    "    #pca_engine.scree_plot(data_mwu)\n",
    "    \n",
    "    var_sel = pca_engine.pca_ds_acc(data_iter)\n",
    "    X_tr, X_ts, y_tr, y_ts = pca_engine.trts_split(data_iter)\n",
    "    \n",
    "    perfs, stability = Classification().benchmark_models(X_tr, X_ts, y_tr, y_ts, var_sel)\n",
    "    \n",
    "    data_collection_pca[dataset.split(\".\")[0]] = [X_tr, X_ts, y_tr, y_ts, var_sel, perfs, stability]\n",
    "    print(var_sel)\n",
    "    print(perfs)\n",
    "    print()\n",
    "    print(\"==> TOP5 STABILITY SCORE: {}\".format(stability))\n",
    "    print(\"-\" * 100)\n",
    "    print(\"-\" * 100)\n",
    "    print(\"-\" * 100)\n",
    "    print()"
   ]
  },
  {
   "cell_type": "markdown",
   "id": "8xZ3k46B0LtI",
   "metadata": {
    "id": "8xZ3k46B0LtI"
   },
   "source": [
    "#### Summarize results\n",
    "From this table, it’s possible to see how the number of the selected features changes after only ```20%``` of the total is considered. What’s more, in the table a first comparison between the obtained accuracy is shown. Looking at the accuracies of the models with the selected features, it’s possible to observe that these values are very close between them. This is also supported by the values of the standard deviation which are almost all very low: the accuracies of the different models do not distance a lot from the mean of these values. On the other hand, for almost all the datasets the accuracies of the models with the selected features are lower than the accuracy of the model with all the features. Only for two datasets, NAQ_R and PCL5,  this does not happen: in this case the accuracies of the model with the selected features overcome one of the models with all the features. All these conclusions can be better seen in the following plots. "
   ]
  },
  {
   "cell_type": "code",
   "execution_count": null,
   "id": "0443129f",
   "metadata": {
    "ExecuteTime": {
     "end_time": "2023-01-05T14:42:17.154151Z",
     "start_time": "2023-01-05T14:42:16.664272Z"
    },
    "id": "0443129f",
    "outputId": "6ded0bbc-417c-4db1-fd4b-68899dc36c33"
   },
   "outputs": [
    {
     "data": {
      "text/html": [
       "<div>\n",
       "<style scoped>\n",
       "    .dataframe tbody tr th:only-of-type {\n",
       "        vertical-align: middle;\n",
       "    }\n",
       "\n",
       "    .dataframe tbody tr th {\n",
       "        vertical-align: top;\n",
       "    }\n",
       "\n",
       "    .dataframe thead th {\n",
       "        text-align: right;\n",
       "    }\n",
       "</style>\n",
       "<table border=\"1\" class=\"dataframe\">\n",
       "  <thead>\n",
       "    <tr style=\"text-align: right;\">\n",
       "      <th></th>\n",
       "      <th>Dataset name</th>\n",
       "      <th>Sample size</th>\n",
       "      <th>Training size</th>\n",
       "      <th>Number of Features</th>\n",
       "      <th>Selected Features</th>\n",
       "      <th>Feat. Top5-Stability</th>\n",
       "      <th>Accuracy - Logit all features</th>\n",
       "      <th>Accuracy - Logit</th>\n",
       "      <th>Accuracy - SVM</th>\n",
       "      <th>Accuracy - RF</th>\n",
       "      <th>Accuracy - MLP</th>\n",
       "      <th>Avg Acc. on selected features</th>\n",
       "      <th>Accuracy Std on selected features</th>\n",
       "      <th>Acc. diff. wrt Full logit</th>\n",
       "    </tr>\n",
       "  </thead>\n",
       "  <tbody>\n",
       "    <tr>\n",
       "      <th>0</th>\n",
       "      <td>BF_df_CTU</td>\n",
       "      <td>442</td>\n",
       "      <td>309</td>\n",
       "      <td>10</td>\n",
       "      <td>2</td>\n",
       "      <td>1.000</td>\n",
       "      <td>0.774</td>\n",
       "      <td>0.737</td>\n",
       "      <td>0.737</td>\n",
       "      <td>0.737</td>\n",
       "      <td>0.669</td>\n",
       "      <td>0.720</td>\n",
       "      <td>0.034</td>\n",
       "      <td>-0.055</td>\n",
       "    </tr>\n",
       "    <tr>\n",
       "      <th>1</th>\n",
       "      <td>BF_df_OU</td>\n",
       "      <td>460</td>\n",
       "      <td>322</td>\n",
       "      <td>10</td>\n",
       "      <td>2</td>\n",
       "      <td>1.000</td>\n",
       "      <td>0.841</td>\n",
       "      <td>0.761</td>\n",
       "      <td>0.761</td>\n",
       "      <td>0.761</td>\n",
       "      <td>0.761</td>\n",
       "      <td>0.761</td>\n",
       "      <td>0.000</td>\n",
       "      <td>-0.080</td>\n",
       "    </tr>\n",
       "    <tr>\n",
       "      <th>2</th>\n",
       "      <td>BF_df_V</td>\n",
       "      <td>486</td>\n",
       "      <td>340</td>\n",
       "      <td>10</td>\n",
       "      <td>2</td>\n",
       "      <td>1.000</td>\n",
       "      <td>0.767</td>\n",
       "      <td>0.692</td>\n",
       "      <td>0.685</td>\n",
       "      <td>0.685</td>\n",
       "      <td>0.678</td>\n",
       "      <td>0.685</td>\n",
       "      <td>0.006</td>\n",
       "      <td>-0.082</td>\n",
       "    </tr>\n",
       "    <tr>\n",
       "      <th>3</th>\n",
       "      <td>DT_df_CC</td>\n",
       "      <td>482</td>\n",
       "      <td>337</td>\n",
       "      <td>27</td>\n",
       "      <td>6</td>\n",
       "      <td>0.667</td>\n",
       "      <td>0.683</td>\n",
       "      <td>0.676</td>\n",
       "      <td>0.690</td>\n",
       "      <td>0.710</td>\n",
       "      <td>0.676</td>\n",
       "      <td>0.688</td>\n",
       "      <td>0.016</td>\n",
       "      <td>0.005</td>\n",
       "    </tr>\n",
       "    <tr>\n",
       "      <th>4</th>\n",
       "      <td>DT_df_JI</td>\n",
       "      <td>864</td>\n",
       "      <td>604</td>\n",
       "      <td>27</td>\n",
       "      <td>6</td>\n",
       "      <td>0.800</td>\n",
       "      <td>0.662</td>\n",
       "      <td>0.600</td>\n",
       "      <td>0.596</td>\n",
       "      <td>0.573</td>\n",
       "      <td>0.627</td>\n",
       "      <td>0.599</td>\n",
       "      <td>0.022</td>\n",
       "      <td>-0.062</td>\n",
       "    </tr>\n",
       "    <tr>\n",
       "      <th>5</th>\n",
       "      <td>IADQ_df</td>\n",
       "      <td>450</td>\n",
       "      <td>315</td>\n",
       "      <td>9</td>\n",
       "      <td>2</td>\n",
       "      <td>1.000</td>\n",
       "      <td>0.844</td>\n",
       "      <td>0.844</td>\n",
       "      <td>0.844</td>\n",
       "      <td>0.837</td>\n",
       "      <td>0.726</td>\n",
       "      <td>0.813</td>\n",
       "      <td>0.058</td>\n",
       "      <td>-0.031</td>\n",
       "    </tr>\n",
       "    <tr>\n",
       "      <th>6</th>\n",
       "      <td>IESR_df</td>\n",
       "      <td>358</td>\n",
       "      <td>250</td>\n",
       "      <td>22</td>\n",
       "      <td>5</td>\n",
       "      <td>0.600</td>\n",
       "      <td>0.926</td>\n",
       "      <td>0.926</td>\n",
       "      <td>0.917</td>\n",
       "      <td>0.907</td>\n",
       "      <td>0.870</td>\n",
       "      <td>0.905</td>\n",
       "      <td>0.024</td>\n",
       "      <td>-0.021</td>\n",
       "    </tr>\n",
       "    <tr>\n",
       "      <th>7</th>\n",
       "      <td>NAQ_R_df</td>\n",
       "      <td>712</td>\n",
       "      <td>498</td>\n",
       "      <td>22</td>\n",
       "      <td>5</td>\n",
       "      <td>0.533</td>\n",
       "      <td>0.949</td>\n",
       "      <td>0.967</td>\n",
       "      <td>0.967</td>\n",
       "      <td>0.953</td>\n",
       "      <td>0.967</td>\n",
       "      <td>0.964</td>\n",
       "      <td>0.007</td>\n",
       "      <td>0.015</td>\n",
       "    </tr>\n",
       "    <tr>\n",
       "      <th>8</th>\n",
       "      <td>PCL5_df</td>\n",
       "      <td>402</td>\n",
       "      <td>281</td>\n",
       "      <td>20</td>\n",
       "      <td>4</td>\n",
       "      <td>0.833</td>\n",
       "      <td>0.785</td>\n",
       "      <td>0.793</td>\n",
       "      <td>0.835</td>\n",
       "      <td>0.810</td>\n",
       "      <td>0.810</td>\n",
       "      <td>0.812</td>\n",
       "      <td>0.017</td>\n",
       "      <td>0.027</td>\n",
       "    </tr>\n",
       "    <tr>\n",
       "      <th>9</th>\n",
       "      <td>PHQ9_GAD7_df</td>\n",
       "      <td>1118</td>\n",
       "      <td>782</td>\n",
       "      <td>16</td>\n",
       "      <td>3</td>\n",
       "      <td>1.000</td>\n",
       "      <td>0.988</td>\n",
       "      <td>0.973</td>\n",
       "      <td>0.973</td>\n",
       "      <td>0.958</td>\n",
       "      <td>0.967</td>\n",
       "      <td>0.968</td>\n",
       "      <td>0.007</td>\n",
       "      <td>-0.020</td>\n",
       "    </tr>\n",
       "    <tr>\n",
       "      <th>10</th>\n",
       "      <td>PID5_df</td>\n",
       "      <td>824</td>\n",
       "      <td>576</td>\n",
       "      <td>220</td>\n",
       "      <td>43</td>\n",
       "      <td>0.400</td>\n",
       "      <td>0.960</td>\n",
       "      <td>0.940</td>\n",
       "      <td>0.931</td>\n",
       "      <td>0.944</td>\n",
       "      <td>0.923</td>\n",
       "      <td>0.934</td>\n",
       "      <td>0.009</td>\n",
       "      <td>-0.025</td>\n",
       "    </tr>\n",
       "    <tr>\n",
       "      <th>11</th>\n",
       "      <td>PRFQ_df</td>\n",
       "      <td>678</td>\n",
       "      <td>474</td>\n",
       "      <td>18</td>\n",
       "      <td>4</td>\n",
       "      <td>0.750</td>\n",
       "      <td>0.936</td>\n",
       "      <td>0.858</td>\n",
       "      <td>0.843</td>\n",
       "      <td>0.853</td>\n",
       "      <td>0.833</td>\n",
       "      <td>0.847</td>\n",
       "      <td>0.011</td>\n",
       "      <td>-0.089</td>\n",
       "    </tr>\n",
       "    <tr>\n",
       "      <th>12</th>\n",
       "      <td>PRMQ_df</td>\n",
       "      <td>1404</td>\n",
       "      <td>982</td>\n",
       "      <td>16</td>\n",
       "      <td>3</td>\n",
       "      <td>0.778</td>\n",
       "      <td>0.908</td>\n",
       "      <td>0.877</td>\n",
       "      <td>0.872</td>\n",
       "      <td>0.891</td>\n",
       "      <td>0.877</td>\n",
       "      <td>0.879</td>\n",
       "      <td>0.008</td>\n",
       "      <td>-0.028</td>\n",
       "    </tr>\n",
       "    <tr>\n",
       "      <th>13</th>\n",
       "      <td>RAW_DDDT</td>\n",
       "      <td>986</td>\n",
       "      <td>690</td>\n",
       "      <td>12</td>\n",
       "      <td>3</td>\n",
       "      <td>0.778</td>\n",
       "      <td>0.747</td>\n",
       "      <td>0.662</td>\n",
       "      <td>0.659</td>\n",
       "      <td>0.706</td>\n",
       "      <td>0.655</td>\n",
       "      <td>0.671</td>\n",
       "      <td>0.024</td>\n",
       "      <td>-0.076</td>\n",
       "    </tr>\n",
       "    <tr>\n",
       "      <th>14</th>\n",
       "      <td>R_NEO_PI</td>\n",
       "      <td>77687</td>\n",
       "      <td>54380</td>\n",
       "      <td>30</td>\n",
       "      <td>5</td>\n",
       "      <td>0.867</td>\n",
       "      <td>0.907</td>\n",
       "      <td>0.900</td>\n",
       "      <td>0.898</td>\n",
       "      <td>0.901</td>\n",
       "      <td>0.899</td>\n",
       "      <td>0.900</td>\n",
       "      <td>0.001</td>\n",
       "      <td>-0.008</td>\n",
       "    </tr>\n",
       "    <tr>\n",
       "      <th>15</th>\n",
       "      <td>sPID-5_df</td>\n",
       "      <td>1038</td>\n",
       "      <td>726</td>\n",
       "      <td>25</td>\n",
       "      <td>5</td>\n",
       "      <td>0.733</td>\n",
       "      <td>0.958</td>\n",
       "      <td>0.936</td>\n",
       "      <td>0.939</td>\n",
       "      <td>0.942</td>\n",
       "      <td>0.933</td>\n",
       "      <td>0.938</td>\n",
       "      <td>0.004</td>\n",
       "      <td>-0.021</td>\n",
       "    </tr>\n",
       "  </tbody>\n",
       "</table>\n",
       "</div>"
      ],
      "text/plain": [
       "    Dataset name  Sample size  Training size  Number of Features  \\\n",
       "0      BF_df_CTU          442            309                  10   \n",
       "1       BF_df_OU          460            322                  10   \n",
       "2        BF_df_V          486            340                  10   \n",
       "3       DT_df_CC          482            337                  27   \n",
       "4       DT_df_JI          864            604                  27   \n",
       "5        IADQ_df          450            315                   9   \n",
       "6        IESR_df          358            250                  22   \n",
       "7       NAQ_R_df          712            498                  22   \n",
       "8        PCL5_df          402            281                  20   \n",
       "9   PHQ9_GAD7_df         1118            782                  16   \n",
       "10       PID5_df          824            576                 220   \n",
       "11       PRFQ_df          678            474                  18   \n",
       "12       PRMQ_df         1404            982                  16   \n",
       "13      RAW_DDDT          986            690                  12   \n",
       "14      R_NEO_PI        77687          54380                  30   \n",
       "15     sPID-5_df         1038            726                  25   \n",
       "\n",
       "    Selected Features  Feat. Top5-Stability  Accuracy - Logit all features  \\\n",
       "0                   2                 1.000                          0.774   \n",
       "1                   2                 1.000                          0.841   \n",
       "2                   2                 1.000                          0.767   \n",
       "3                   6                 0.667                          0.683   \n",
       "4                   6                 0.800                          0.662   \n",
       "5                   2                 1.000                          0.844   \n",
       "6                   5                 0.600                          0.926   \n",
       "7                   5                 0.533                          0.949   \n",
       "8                   4                 0.833                          0.785   \n",
       "9                   3                 1.000                          0.988   \n",
       "10                 43                 0.400                          0.960   \n",
       "11                  4                 0.750                          0.936   \n",
       "12                  3                 0.778                          0.908   \n",
       "13                  3                 0.778                          0.747   \n",
       "14                  5                 0.867                          0.907   \n",
       "15                  5                 0.733                          0.958   \n",
       "\n",
       "    Accuracy - Logit  Accuracy - SVM  Accuracy - RF  Accuracy - MLP  \\\n",
       "0              0.737           0.737          0.737           0.669   \n",
       "1              0.761           0.761          0.761           0.761   \n",
       "2              0.692           0.685          0.685           0.678   \n",
       "3              0.676           0.690          0.710           0.676   \n",
       "4              0.600           0.596          0.573           0.627   \n",
       "5              0.844           0.844          0.837           0.726   \n",
       "6              0.926           0.917          0.907           0.870   \n",
       "7              0.967           0.967          0.953           0.967   \n",
       "8              0.793           0.835          0.810           0.810   \n",
       "9              0.973           0.973          0.958           0.967   \n",
       "10             0.940           0.931          0.944           0.923   \n",
       "11             0.858           0.843          0.853           0.833   \n",
       "12             0.877           0.872          0.891           0.877   \n",
       "13             0.662           0.659          0.706           0.655   \n",
       "14             0.900           0.898          0.901           0.899   \n",
       "15             0.936           0.939          0.942           0.933   \n",
       "\n",
       "    Avg Acc. on selected features  Accuracy Std on selected features  \\\n",
       "0                           0.720                              0.034   \n",
       "1                           0.761                              0.000   \n",
       "2                           0.685                              0.006   \n",
       "3                           0.688                              0.016   \n",
       "4                           0.599                              0.022   \n",
       "5                           0.813                              0.058   \n",
       "6                           0.905                              0.024   \n",
       "7                           0.964                              0.007   \n",
       "8                           0.812                              0.017   \n",
       "9                           0.968                              0.007   \n",
       "10                          0.934                              0.009   \n",
       "11                          0.847                              0.011   \n",
       "12                          0.879                              0.008   \n",
       "13                          0.671                              0.024   \n",
       "14                          0.900                              0.001   \n",
       "15                          0.938                              0.004   \n",
       "\n",
       "    Acc. diff. wrt Full logit  \n",
       "0                      -0.055  \n",
       "1                      -0.080  \n",
       "2                      -0.082  \n",
       "3                       0.005  \n",
       "4                      -0.062  \n",
       "5                      -0.031  \n",
       "6                      -0.021  \n",
       "7                       0.015  \n",
       "8                       0.027  \n",
       "9                      -0.020  \n",
       "10                     -0.025  \n",
       "11                     -0.089  \n",
       "12                     -0.028  \n",
       "13                     -0.076  \n",
       "14                     -0.008  \n",
       "15                     -0.021  "
      ]
     },
     "execution_count": 3,
     "metadata": {},
     "output_type": "execute_result"
    }
   ],
   "source": [
    "pca_summary = evaluation.summary_table(data_collection_pca, stability = True, neural_net = True)\n",
    "pca_summary"
   ]
  },
  {
   "cell_type": "markdown",
   "id": "Bx1ZQx7P0xFk",
   "metadata": {
    "id": "Bx1ZQx7P0xFk"
   },
   "source": [
    "In this plot, the mean of the accuracies of the models with the selected features is shown for each dataset. These values are pretty high for almost all the datasets since they are always above the 0.5 value, this means that with this approach the classification between honest and dishonest is not happening as if it is random. The black line represents the standard deviation, which values can be seen better in the following plot.\n"
   ]
  },
  {
   "cell_type": "code",
   "execution_count": null,
   "id": "c69b4d57",
   "metadata": {
    "ExecuteTime": {
     "end_time": "2023-01-05T14:42:18.757591Z",
     "start_time": "2023-01-05T14:42:17.158187Z"
    },
    "id": "c69b4d57",
    "outputId": "68f83c2a-5789-4fd7-b430-49056a55a58a"
   },
   "outputs": [
    {
     "data": {
      "image/png": "[encoded data removed]",
      "text/plain": [
       "<Figure size 1296x504 with 1 Axes>"
      ]
     },
     "metadata": {
      "needs_background": "light"
     },
     "output_type": "display_data"
    }
   ],
   "source": [
    "summary_graphs.accuracy_barplot(pca_summary, save = True, prefix = \"PCA\")"
   ]
  },
  {
   "cell_type": "markdown",
   "id": "P6a9qo4H00l8",
   "metadata": {
    "id": "P6a9qo4H00l8"
   },
   "source": [
    "Here the values of the standard deviation are better shown: as mentioned before, these values are mainly not that high, meaning that the accuracies of the models with the selected features tend to be very close to their mean.\n"
   ]
  },
  {
   "cell_type": "code",
   "execution_count": null,
   "id": "670ea8f5",
   "metadata": {
    "ExecuteTime": {
     "end_time": "2023-01-05T14:42:20.268833Z",
     "start_time": "2023-01-05T14:42:18.761471Z"
    },
    "id": "670ea8f5",
    "outputId": "60a7ca15-5bd0-47e9-ceaf-48da035fd3ea"
   },
   "outputs": [
    {
     "data": {
      "image/png": "[encoded data removed]",
      "text/plain": [
       "<Figure size 1296x432 with 1 Axes>"
      ]
     },
     "metadata": {
      "needs_background": "light"
     },
     "output_type": "display_data"
    }
   ],
   "source": [
    "summary_graphs.accuracy_std(pca_summary, save = True, prefix = \"PCA\")"
   ]
  },
  {
   "cell_type": "markdown",
   "id": "7mrFsB5o05TI",
   "metadata": {
    "id": "7mrFsB5o05TI"
   },
   "source": [
    "In this plot, there is better visualization of the comparison between the accuracies of the logistic regression model with all the features, the logistic regression model with the selected features, the SVM model with the selected features, the random forest model with the selected features and the neural network with the selected features. In this comparison, the datasets are divided into the ones where the subjects are faking good and the ones where the subjects are faking bad. From here it can be better seen what was said before: for almost all the datasets the values of the accuracies with the selected features decrease with respect to one of the models with all the features. \n",
    "\n",
    "Furthermore, it’s possible to infer that there are slight differences between the performances of faking good and faking bad datasets, so this might point out that this approach considers the intention of lying of the subjects. This is clearer by looking at the difference between the average of the `Acc. diff. wrt Full logit` for the faking good datasets and the one for the faking bad (-0.049 vs -0.019), which is not so high but shows that faking bad performs better.\n"
   ]
  },
  {
   "cell_type": "code",
   "execution_count": null,
   "id": "554a4dc8",
   "metadata": {
    "ExecuteTime": {
     "end_time": "2023-01-05T14:42:23.336867Z",
     "start_time": "2023-01-05T14:42:20.272833Z"
    },
    "id": "554a4dc8",
    "outputId": "f41c6ad2-a08e-4fef-d587-bc61b2ee483a"
   },
   "outputs": [
    {
     "data": {
      "image/png": "[encoded data removed]",
      "text/plain": [
       "<Figure size 1296x720 with 2 Axes>"
      ]
     },
     "metadata": {
      "needs_background": "light"
     },
     "output_type": "display_data"
    }
   ],
   "source": [
    "summary_graphs.faking_type_comparison(pca_summary, prefix = \"PCA\", save = True)"
   ]
  },
  {
   "cell_type": "markdown",
   "id": "f2f32564",
   "metadata": {
    "id": "f2f32564"
   },
   "source": [
    "### Permutation Importance\n",
    "\n",
    "The following approach aims to be model-agnostic even if the implementation of the permutation importance is model-dependent. This is because the latter is considered when applied to a random forest, a type of ensemble learning (a model made of several simpler models) characterized by bootstrapping and feature randomness so that each weaker model (i.e. decision tree) is trained with a different subset of examples and of features<sup>[1]</sup>.<br>\n",
    "\n",
    "The actual phase of feature selection can be broken down into smaller pieces in which several models are fitted in such a way the generalizing power of the selection of a subset of features is increased and the overall procedure is more automatic. In fact, a further split of the training set (80% of it will be denoted as $X_{train}$ and the remainder $X_{val}$) is performed. A decision tree is fitted to $X_{train}$ and is subjected to minimal cost-complexity pruning<sup>[2]</sup>:  \n",
    "\n",
    "> Given $|T|$ the number of terminal nodes of the decision tree, $R(t)$ the impurity of a node $t$, and $R(T_t)$ the impurity of the branch whose root is $t$, we define  \n",
    "> <center>$\\alpha_{eff}=\\frac{R(t)-R(T_t)}{|T|-1}$</center>\n",
    "> the $\\alpha$ of a node. To prune a tree, then it is sufficient to select $\\alpha_{eff}$, so that all non-terminal nodes will be subsequently pruned if their $\\alpha$ is lower than $\\alpha_{eff}$.\n",
    "\n",
    "$\\alpha_{eff}$ is a hyper-parameter, that is selected via a 3-fold cross-validation procedure on $X_{train}$ on a gradient boosting tree<sup>[3]</sup>. Pruning is a regularization technique that aims at reducing the variance of an estimator, thus preventing overfitting (code reference `support.py`, the function is `D3_pruning`). The resulting pruned boosted tree will provide the maximum tree depth to use for the weaker learners of the random forest. Hence, the framework of a model-independent permutation importance takes place with a random forest with 200 weaker estimators that are not fully grown, and it is repeated for 100 times on unseen data, i.e. $X_{val}$.<br>\n",
    "\n",
    "As the permutation importance is iterated several times, it is possible to obtain a sample of the distribution of the importances of each feature. Given $p$ the number of features and $k$ the number of iterations, and denoting $\\gamma_{j}$ the vector of importances of the $j$-th feature (with $\\gamma\\in\\mathbb{R}^{k}$) we have  \n",
    "\n",
    "<center>\n",
    "    $P\\in\\mathbb{R}^{p\\times k}, P=\\begin{bmatrix}\n",
    "                                        \\gamma_1\\\\\n",
    "                                        \\vdots \\\\\n",
    "                                        \\gamma_p\\\\\n",
    "                                       \\end{bmatrix}$\n",
    "</center>\n",
    "\n",
    "We thus defined that $\\gamma_j$ is the sample of the importances for the $j$-th feature. To select only the features that are significantly important, for each $\\gamma_j$ we provide a statistical test whose hypothesis are  \n",
    "\n",
    "<center>\n",
    "    $\\begin{cases}\n",
    "          H_0: & \\hat{\\mu}_{j}=0 \\\\\n",
    "          H_1: & \\hat{\\mu}_{j}>0\n",
    "    \\end{cases}$\n",
    "</center>\n",
    "\n",
    "where $\\hat{\\mu}_{j}$ is the sample mean of $\\gamma_j$. The null hypothesis $H_0$ is rejected for $\\alpha<0.001$.This way only features whose importance is significantly greater than zero are retained, all the others are discarded. We call this subset of feature $A^*$.  \n",
    "The code reference is `engine.py`, the function is `variable_selection`.<br>\n",
    "\n",
    "In order to further confirm the efficacy of the selection, a likelihood ratio test<sup>[4]</sup> (code reference `support.py`, the function is `likelihood_ratio_test`) is performed. Here, we compare the likelihood of two nested models, i.e. a logistic regression fitted on all the features, and one on $A^*$. The test statistic is  \n",
    "\n",
    "<center>\n",
    "    $\\lambda_{LR} = -2\\big[\\log{L\\big(\\theta_{A^*}\\big)}-\\log{L\\big(\\hat{\\theta}}\\big)\\big] $\n",
    "</center>  \n",
    "\n",
    "where $\\log{L\\big(\\theta_{A^*}\\big)}$ refers to the log-likelihood of the model estimated on a subset of features, while $\\log{L\\big(\\hat{\\theta}}\\big)$ refers to the log-likelihood of a full model (i.e. with all the features available). This corresponds to the null hypothesis $H_0$ being \"the models have similar likelihood\", thus implying that its acceptance results in preferring the simpler (i.e. nested) model. We set the confidence level $\\alpha=0.05$. It never happens that $H_0$ is rejected for all the datasets under the scope of this work.<br>\n",
    "\n",
    "\n",
    "##### SUPPORTING PAPERS\n",
    "[1] Leo Breiman. *Random forests*. Machine learning, 45(1):5-32, 2001.  \n",
    "[2] L. Breiman, J. Friedman, R. Olshen, and C. Stone. *Classification and Regression Trees*. Wadsworth, Belmont, CA, 1984.  \n",
    "[3] J. Friedman, Greedy Function Approximation: *A Gradient Boosting Machine*, The Annals of Statistics, Vol. 29, No. 5, 2001  \n",
    "[4] Koch, Karl-Rudolf (1988). Parameter Estimation and Hypothesis Testing in Linear Models. New York: Springer. p. 306  "
   ]
  },
  {
   "cell_type": "code",
   "execution_count": null,
   "id": "23cb893e",
   "metadata": {
    "ExecuteTime": {
     "end_time": "2023-01-05T14:52:28.927376Z",
     "start_time": "2023-01-05T14:42:23.342310Z"
    },
    "colab": {
     "referenced_widgets": [
      "5d244c8953e4438082fecf5a60147521",
      "3dd62f800bec461c968e602b710649bb",
      "72cb2405f1b54abeb92892400f4b698e",
      "34293edfe3ea4faab63b7bec2dfae2fd",
      "af01aefe6c4941ce9e6f4284a1d0fb44",
      "dba4b6e95ddc412898f332344a8a74a2",
      "76bfadbd1b9f40ccada020075e373ebc",
      "6b67adbe00e740f3958334abdda5d2be",
      "10635c6ac44d4dc1b0c13e622b544434",
      "4a8c11164fc8429fb88af54d09c28188",
      "de28605e5bea4fd88915aef1e7ad811b",
      "1afca5cbcef5441388911cdd9925c390",
      "2553c09ff0d04e2daaacfae3d23155bb",
      "c2f774f3c46f4b4aa62754c20f4c7c4b",
      "3aa6d730466343d3ab978cc6e01da0f1",
      "424223dd030a40bab27b0bf8c66f077a",
      "eecdae332cbc42f8b20048e398b22c02",
      "015dccd4a442471c999b20e291de9acd",
      "529d548dda034b8aaa335279ab48ae43",
      "3500b57e1dcc4480856ec130a6a32365",
      "4980d5b9acb0416b8468c1a8ed620747",
      "45137880a3474a7e880ef9588102afea",
      "521ea1f663f04e5d80808ca3fba25ae5",
      "cfac468ad1bd4373b7672d876be322b8",
      "47c5dc7bf6a147779ff3043ae35307ea",
      "adc3f6ac700140e0838a65c29d13de1d",
      "5f2511d3f0d04aeabd8210712bc3515c",
      "af32947186e847b29ff0b1162ca01632",
      "2a25868602de4498a7b8c7cafa825c51",
      "b8a7b4d6c647417583c20ad762958f55",
      "0ab7d8dd61bd4068914659504c2aa2c3",
      "2bbcb2ecc8ab456fa2ff29bd25a6cfe7"
     ]
    },
    "id": "23cb893e",
    "outputId": "fbc19bb3-a015-499d-d0b3-7be3d0ff969f",
    "scrolled": true
   },
   "outputs": [
    {
     "name": "stdout",
     "output_type": "stream",
     "text": [
      "BF_df_CTU\n",
      "[LightGBM] [Warning] bagging_fraction is set=0.2, subsample=1.0 will be ignored. Current value: bagging_fraction=0.2\n",
      "[LightGBM] [Warning] bagging_freq is set=10, subsample_freq=0 will be ignored. Current value: bagging_freq=10\n"
     ]
    },
    {
     "data": {
      "application/vnd.jupyter.widget-view+json": {
       "model_id": "eecdae332cbc42f8b20048e398b22c02",
       "version_major": 2,
       "version_minor": 0
      },
      "text/plain": [
       "  0%|          | 0/100 [00:00<?, ?it/s]"
      ]
     },
     "metadata": {},
     "output_type": "display_data"
    },
    {
     "name": "stdout",
     "output_type": "stream",
     "text": [
      "5/5 [==============================] - 0s 1ms/step\n",
      "Train size: 309\n",
      "Selected 1 features out of 10\n",
      "{'Features': [6], 'Wilks test p-value': 1.0, 'High correlation': False}\n",
      "                     Accuracy  FI 1\n",
      "Full Logit           0.774436   NaN\n",
      "Logistic Regression  0.736842   6.0\n",
      "SVC                  0.736842   6.0\n",
      "Random Forest        0.736842   6.0\n",
      "Neural Network       0.736842   6.0\n",
      "\n",
      "==> TOP5 STABILITY SCORE: 1.0\n",
      "----------------------------------------------------------------------------------------------------\n",
      "----------------------------------------------------------------------------------------------------\n",
      "----------------------------------------------------------------------------------------------------\n",
      "\n",
      "BF_df_OU\n",
      "[LightGBM] [Warning] bagging_fraction is set=0.2, subsample=1.0 will be ignored. Current value: bagging_fraction=0.2\n",
      "[LightGBM] [Warning] bagging_freq is set=10, subsample_freq=0 will be ignored. Current value: bagging_freq=10\n"
     ]
    },
    {
     "data": {
      "application/vnd.jupyter.widget-view+json": {
       "model_id": "015dccd4a442471c999b20e291de9acd",
       "version_major": 2,
       "version_minor": 0
      },
      "text/plain": [
       "  0%|          | 0/100 [00:00<?, ?it/s]"
      ]
     },
     "metadata": {},
     "output_type": "display_data"
    },
    {
     "name": "stdout",
     "output_type": "stream",
     "text": [
      "5/5 [==============================] - 0s 2ms/step\n",
      "Train size: 322\n",
      "Selected 2 features out of 10\n",
      "{'Features': [6, 7], 'Wilks test p-value': 1.0, 'High correlation': False}\n",
      "                     Accuracy  FI 1  FI 2\n",
      "Full Logit           0.833333   NaN   NaN\n",
      "Logistic Regression  0.789855   6.0   7.0\n",
      "SVC                  0.789855   6.0   7.0\n",
      "Random Forest        0.797101   6.0   7.0\n",
      "Neural Network       0.775362   6.0   7.0\n",
      "\n",
      "==> TOP5 STABILITY SCORE: 1.0\n",
      "----------------------------------------------------------------------------------------------------\n",
      "----------------------------------------------------------------------------------------------------\n",
      "----------------------------------------------------------------------------------------------------\n",
      "\n",
      "BF_df_V\n",
      "[LightGBM] [Warning] bagging_fraction is set=0.2, subsample=1.0 will be ignored. Current value: bagging_fraction=0.2\n",
      "[LightGBM] [Warning] bagging_freq is set=10, subsample_freq=0 will be ignored. Current value: bagging_freq=10\n"
     ]
    },
    {
     "data": {
      "application/vnd.jupyter.widget-view+json": {
       "model_id": "529d548dda034b8aaa335279ab48ae43",
       "version_major": 2,
       "version_minor": 0
      },
      "text/plain": [
       "  0%|          | 0/100 [00:00<?, ?it/s]"
      ]
     },
     "metadata": {},
     "output_type": "display_data"
    },
    {
     "name": "stdout",
     "output_type": "stream",
     "text": [
      "5/5 [==============================] - 0s 2ms/step\n",
      "Train size: 340\n",
      "Selected 1 features out of 10\n",
      "{'Features': [7], 'Wilks test p-value': 1.0, 'High correlation': False}\n",
      "                     Accuracy  FI 1\n",
      "Full Logit           0.760274   NaN\n",
      "Logistic Regression  0.684932   7.0\n",
      "SVC                  0.684932   7.0\n",
      "Random Forest        0.684932   7.0\n",
      "Neural Network       0.684932   7.0\n",
      "\n",
      "==> TOP5 STABILITY SCORE: 1.0\n",
      "----------------------------------------------------------------------------------------------------\n",
      "----------------------------------------------------------------------------------------------------\n",
      "----------------------------------------------------------------------------------------------------\n",
      "\n",
      "DT_df_CC\n",
      "[LightGBM] [Warning] bagging_fraction is set=0.2, subsample=1.0 will be ignored. Current value: bagging_fraction=0.2\n",
      "[LightGBM] [Warning] bagging_freq is set=10, subsample_freq=0 will be ignored. Current value: bagging_freq=10\n"
     ]
    },
    {
     "data": {
      "application/vnd.jupyter.widget-view+json": {
       "model_id": "3500b57e1dcc4480856ec130a6a32365",
       "version_major": 2,
       "version_minor": 0
      },
      "text/plain": [
       "  0%|          | 0/100 [00:00<?, ?it/s]"
      ]
     },
     "metadata": {},
     "output_type": "display_data"
    },
    {
     "name": "stdout",
     "output_type": "stream",
     "text": [
      "5/5 [==============================] - 0s 2ms/step\n",
      "Train size: 337\n",
      "Selected 6 features out of 27\n",
      "{'Features': [4, 8, 9, 10, 12, 13], 'Wilks test p-value': 1.0, 'High correlation': False}\n",
      "                     Accuracy  FI 1  FI 2  FI 3  FI 4  FI 5\n",
      "Full Logit           0.682759   NaN   NaN   NaN   NaN   NaN\n",
      "Logistic Regression  0.703448  13.0  10.0   9.0  12.0   8.0\n",
      "SVC                  0.703448  13.0  10.0   9.0   8.0  12.0\n",
      "Random Forest        0.724138  13.0  10.0   9.0   8.0   4.0\n",
      "Neural Network       0.703448  13.0   4.0   9.0   8.0  10.0\n",
      "\n",
      "==> TOP5 STABILITY SCORE: 0.667\n",
      "----------------------------------------------------------------------------------------------------\n",
      "----------------------------------------------------------------------------------------------------\n",
      "----------------------------------------------------------------------------------------------------\n",
      "\n",
      "DT_df_JI\n",
      "[LightGBM] [Warning] bagging_fraction is set=0.2, subsample=1.0 will be ignored. Current value: bagging_fraction=0.2\n",
      "[LightGBM] [Warning] bagging_freq is set=10, subsample_freq=0 will be ignored. Current value: bagging_freq=10\n"
     ]
    },
    {
     "data": {
      "application/vnd.jupyter.widget-view+json": {
       "model_id": "4980d5b9acb0416b8468c1a8ed620747",
       "version_major": 2,
       "version_minor": 0
      },
      "text/plain": [
       "  0%|          | 0/100 [00:00<?, ?it/s]"
      ]
     },
     "metadata": {},
     "output_type": "display_data"
    },
    {
     "name": "stdout",
     "output_type": "stream",
     "text": [
      "9/9 [==============================] - 0s 2ms/step\n",
      "Train size: 604\n",
      "Selected 12 features out of 27\n",
      "{'Features': [1, 2, 6, 8, 9, 10, 15, 16, 17, 19, 20, 23], 'Wilks test p-value': 1.0, 'High correlation': False}\n",
      "                     Accuracy  FI 1  FI 2  FI 3  FI 4  FI 5\n",
      "Full Logit           0.661538   NaN   NaN   NaN   NaN   NaN\n",
      "Logistic Regression  0.642308   2.0   6.0  15.0  17.0  16.0\n",
      "SVC                  0.638462   2.0   6.0  15.0  17.0  16.0\n",
      "Random Forest        0.603846   6.0   2.0  15.0  19.0  17.0\n",
      "Neural Network       0.626923   6.0   2.0  17.0  16.0  23.0\n",
      "\n",
      "==> TOP5 STABILITY SCORE: 0.533\n",
      "----------------------------------------------------------------------------------------------------\n",
      "----------------------------------------------------------------------------------------------------\n",
      "----------------------------------------------------------------------------------------------------\n",
      "\n",
      "IADQ_df\n",
      "[LightGBM] [Warning] bagging_fraction is set=0.2, subsample=1.0 will be ignored. Current value: bagging_fraction=0.2\n",
      "[LightGBM] [Warning] bagging_freq is set=10, subsample_freq=0 will be ignored. Current value: bagging_freq=10\n"
     ]
    },
    {
     "data": {
      "application/vnd.jupyter.widget-view+json": {
       "model_id": "45137880a3474a7e880ef9588102afea",
       "version_major": 2,
       "version_minor": 0
      },
      "text/plain": [
       "  0%|          | 0/100 [00:00<?, ?it/s]"
      ]
     },
     "metadata": {},
     "output_type": "display_data"
    },
    {
     "name": "stdout",
     "output_type": "stream",
     "text": [
      "5/5 [==============================] - 0s 2ms/step\n",
      "Train size: 315\n",
      "Selected 2 features out of 9\n",
      "{'Features': [1, 6], 'Wilks test p-value': 1.0, 'High correlation': False}\n",
      "                     Accuracy  FI 1  FI 2\n",
      "Full Logit           0.851852   NaN   NaN\n",
      "Logistic Regression  0.859259   6.0   1.0\n",
      "SVC                  0.859259   6.0   1.0\n",
      "Random Forest        0.851852   1.0   6.0\n",
      "Neural Network       0.859259   1.0   6.0\n",
      "\n",
      "==> TOP5 STABILITY SCORE: 0.667\n",
      "----------------------------------------------------------------------------------------------------\n",
      "----------------------------------------------------------------------------------------------------\n",
      "----------------------------------------------------------------------------------------------------\n",
      "\n",
      "IESR_df\n",
      "[LightGBM] [Warning] bagging_fraction is set=0.2, subsample=1.0 will be ignored. Current value: bagging_fraction=0.2\n",
      "[LightGBM] [Warning] bagging_freq is set=10, subsample_freq=0 will be ignored. Current value: bagging_freq=10\n"
     ]
    },
    {
     "data": {
      "application/vnd.jupyter.widget-view+json": {
       "model_id": "521ea1f663f04e5d80808ca3fba25ae5",
       "version_major": 2,
       "version_minor": 0
      },
      "text/plain": [
       "  0%|          | 0/100 [00:00<?, ?it/s]"
      ]
     },
     "metadata": {},
     "output_type": "display_data"
    },
    {
     "name": "stdout",
     "output_type": "stream",
     "text": [
      "4/4 [==============================] - 0s 2ms/step\n",
      "Train size: 250\n",
      "Selected 2 features out of 22\n",
      "{'Features': [8, 18], 'Wilks test p-value': 1.0, 'High correlation': True}\n",
      "                     Accuracy  FI 1  FI 2\n",
      "Full Logit           0.935185   NaN   NaN\n",
      "Logistic Regression  0.907407   8.0  18.0\n",
      "SVC                  0.916667  18.0   8.0\n",
      "Random Forest        0.925926   8.0  18.0\n",
      "Neural Network       0.916667   8.0  18.0\n",
      "\n",
      "==> TOP5 STABILITY SCORE: 0.667\n",
      "----------------------------------------------------------------------------------------------------\n",
      "----------------------------------------------------------------------------------------------------\n",
      "----------------------------------------------------------------------------------------------------\n",
      "\n",
      "NAQ_R_df\n",
      "[LightGBM] [Warning] bagging_fraction is set=0.2, subsample=1.0 will be ignored. Current value: bagging_fraction=0.2\n",
      "[LightGBM] [Warning] bagging_freq is set=10, subsample_freq=0 will be ignored. Current value: bagging_freq=10\n"
     ]
    },
    {
     "data": {
      "application/vnd.jupyter.widget-view+json": {
       "model_id": "cfac468ad1bd4373b7672d876be322b8",
       "version_major": 2,
       "version_minor": 0
      },
      "text/plain": [
       "  0%|          | 0/100 [00:00<?, ?it/s]"
      ]
     },
     "metadata": {},
     "output_type": "display_data"
    },
    {
     "name": "stdout",
     "output_type": "stream",
     "text": [
      "7/7 [==============================] - 0s 1ms/step\n",
      "Train size: 498\n",
      "Selected 1 features out of 22\n",
      "{'Features': [9], 'Wilks test p-value': 1.0, 'High correlation': True}\n",
      "                     Accuracy  FI 1\n",
      "Full Logit           0.953271   NaN\n",
      "Logistic Regression  0.929907   9.0\n",
      "SVC                  0.929907   9.0\n",
      "Random Forest        0.929907   9.0\n",
      "Neural Network       0.929907   9.0\n",
      "\n",
      "==> TOP5 STABILITY SCORE: 1.0\n",
      "----------------------------------------------------------------------------------------------------\n",
      "----------------------------------------------------------------------------------------------------\n",
      "----------------------------------------------------------------------------------------------------\n",
      "\n",
      "PCL5_df\n",
      "[LightGBM] [Warning] bagging_fraction is set=0.2, subsample=1.0 will be ignored. Current value: bagging_fraction=0.2\n",
      "[LightGBM] [Warning] bagging_freq is set=10, subsample_freq=0 will be ignored. Current value: bagging_freq=10\n"
     ]
    },
    {
     "data": {
      "application/vnd.jupyter.widget-view+json": {
       "model_id": "47c5dc7bf6a147779ff3043ae35307ea",
       "version_major": 2,
       "version_minor": 0
      },
      "text/plain": [
       "  0%|          | 0/100 [00:00<?, ?it/s]"
      ]
     },
     "metadata": {},
     "output_type": "display_data"
    },
    {
     "name": "stdout",
     "output_type": "stream",
     "text": [
      "4/4 [==============================] - 0s 2ms/step\n",
      "Train size: 281\n",
      "Selected 7 features out of 20\n",
      "{'Features': [0, 1, 3, 4, 5, 6, 19], 'Wilks test p-value': 1.0, 'High correlation': False}\n",
      "                     Accuracy  FI 1  FI 2  FI 3  FI 4  FI 5\n",
      "Full Logit           0.809917   NaN   NaN   NaN   NaN   NaN\n",
      "Logistic Regression  0.793388   4.0   1.0  19.0   3.0   0.0\n",
      "SVC                  0.834711   4.0   1.0  19.0   3.0   6.0\n",
      "Random Forest        0.760331  19.0   4.0   1.0   3.0   6.0\n",
      "Neural Network       0.834711   4.0   3.0  19.0   6.0   5.0\n",
      "\n",
      "==> TOP5 STABILITY SCORE: 0.533\n",
      "----------------------------------------------------------------------------------------------------\n",
      "----------------------------------------------------------------------------------------------------\n",
      "----------------------------------------------------------------------------------------------------\n",
      "\n",
      "PHQ9_GAD7_df\n",
      "[LightGBM] [Warning] bagging_fraction is set=0.2, subsample=1.0 will be ignored. Current value: bagging_fraction=0.2\n",
      "[LightGBM] [Warning] bagging_freq is set=10, subsample_freq=0 will be ignored. Current value: bagging_freq=10\n"
     ]
    },
    {
     "data": {
      "application/vnd.jupyter.widget-view+json": {
       "model_id": "adc3f6ac700140e0838a65c29d13de1d",
       "version_major": 2,
       "version_minor": 0
      },
      "text/plain": [
       "  0%|          | 0/100 [00:00<?, ?it/s]"
      ]
     },
     "metadata": {},
     "output_type": "display_data"
    },
    {
     "name": "stdout",
     "output_type": "stream",
     "text": [
      "11/11 [==============================] - 0s 1ms/step\n",
      "Train size: 782\n",
      "Selected 7 features out of 16\n",
      "{'Features': [0, 1, 2, 4, 5, 6, 7], 'Wilks test p-value': 1.0, 'High correlation': True}\n",
      "                     Accuracy  FI 1  FI 2  FI 3  FI 4  FI 5\n",
      "Full Logit           0.991071   NaN   NaN   NaN   NaN   NaN\n",
      "Logistic Regression  0.982143   7.0   1.0   6.0   0.0   5.0\n",
      "SVC                  0.982143   7.0   1.0   6.0   0.0   5.0\n",
      "Random Forest        0.973214   7.0   1.0   6.0   0.0   5.0\n",
      "Neural Network       0.988095   7.0   5.0   1.0   6.0   0.0\n",
      "\n",
      "==> TOP5 STABILITY SCORE: 0.733\n",
      "----------------------------------------------------------------------------------------------------\n",
      "----------------------------------------------------------------------------------------------------\n",
      "----------------------------------------------------------------------------------------------------\n",
      "\n",
      "PID5_df\n",
      "[LightGBM] [Warning] bagging_fraction is set=0.2, subsample=1.0 will be ignored. Current value: bagging_fraction=0.2\n",
      "[LightGBM] [Warning] bagging_freq is set=10, subsample_freq=0 will be ignored. Current value: bagging_freq=10\n"
     ]
    },
    {
     "data": {
      "application/vnd.jupyter.widget-view+json": {
       "model_id": "5f2511d3f0d04aeabd8210712bc3515c",
       "version_major": 2,
       "version_minor": 0
      },
      "text/plain": [
       "  0%|          | 0/100 [00:00<?, ?it/s]"
      ]
     },
     "metadata": {},
     "output_type": "display_data"
    },
    {
     "name": "stdout",
     "output_type": "stream",
     "text": [
      "8/8 [==============================] - 0s 2ms/step\n",
      "Train size: 576\n",
      "Selected 7 features out of 220\n",
      "{'Features': [1, 24, 35, 105, 132, 165, 191], 'Wilks test p-value': 1.0, 'High correlation': False}\n",
      "                     Accuracy   FI 1   FI 2   FI 3   FI 4  FI 5\n",
      "Full Logit           0.959677    NaN    NaN    NaN    NaN   NaN\n",
      "Logistic Regression  0.959677    1.0  191.0  165.0  132.0  35.0\n",
      "SVC                  0.955645    1.0  191.0  165.0  132.0  35.0\n",
      "Random Forest        0.959677    1.0  165.0  132.0  191.0  35.0\n",
      "Neural Network       0.959677  165.0    1.0  191.0  132.0  24.0\n",
      "\n",
      "==> TOP5 STABILITY SCORE: 0.533\n",
      "----------------------------------------------------------------------------------------------------\n",
      "----------------------------------------------------------------------------------------------------\n",
      "----------------------------------------------------------------------------------------------------\n",
      "\n",
      "PRFQ_df\n",
      "[LightGBM] [Warning] bagging_fraction is set=0.2, subsample=1.0 will be ignored. Current value: bagging_fraction=0.2\n",
      "[LightGBM] [Warning] bagging_freq is set=10, subsample_freq=0 will be ignored. Current value: bagging_freq=10\n"
     ]
    },
    {
     "data": {
      "application/vnd.jupyter.widget-view+json": {
       "model_id": "af32947186e847b29ff0b1162ca01632",
       "version_major": 2,
       "version_minor": 0
      },
      "text/plain": [
       "  0%|          | 0/100 [00:00<?, ?it/s]"
      ]
     },
     "metadata": {},
     "output_type": "display_data"
    },
    {
     "name": "stdout",
     "output_type": "stream",
     "text": [
      "7/7 [==============================] - 0s 2ms/step\n",
      "Train size: 474\n",
      "Selected 8 features out of 18\n",
      "{'Features': [2, 6, 7, 8, 9, 10, 11, 13], 'Wilks test p-value': 1.0, 'High correlation': False}\n",
      "                     Accuracy  FI 1  FI 2  FI 3  FI 4  FI 5\n",
      "Full Logit           0.936275   NaN   NaN   NaN   NaN   NaN\n",
      "Logistic Regression  0.901961  11.0   6.0   7.0   9.0   2.0\n",
      "SVC                  0.906863  11.0   6.0   7.0   2.0  13.0\n",
      "Random Forest        0.911765   6.0   9.0   2.0  13.0   7.0\n",
      "Neural Network       0.906863   6.0  11.0   8.0   9.0   7.0\n",
      "\n",
      "==> TOP5 STABILITY SCORE: 0.4\n",
      "----------------------------------------------------------------------------------------------------\n",
      "----------------------------------------------------------------------------------------------------\n",
      "----------------------------------------------------------------------------------------------------\n",
      "\n",
      "PRMQ_df\n",
      "[LightGBM] [Warning] bagging_fraction is set=0.2, subsample=1.0 will be ignored. Current value: bagging_fraction=0.2\n",
      "[LightGBM] [Warning] bagging_freq is set=10, subsample_freq=0 will be ignored. Current value: bagging_freq=10\n"
     ]
    },
    {
     "data": {
      "application/vnd.jupyter.widget-view+json": {
       "model_id": "2a25868602de4498a7b8c7cafa825c51",
       "version_major": 2,
       "version_minor": 0
      },
      "text/plain": [
       "  0%|          | 0/100 [00:00<?, ?it/s]"
      ]
     },
     "metadata": {},
     "output_type": "display_data"
    },
    {
     "name": "stdout",
     "output_type": "stream",
     "text": [
      "14/14 [==============================] - 0s 1ms/step\n",
      "Train size: 982\n",
      "Selected 3 features out of 16\n",
      "{'Features': [0, 1, 7], 'Wilks test p-value': 1.0, 'High correlation': False}\n",
      "                     Accuracy  FI 1  FI 2  FI 3\n",
      "Full Logit           0.907583   NaN   NaN   NaN\n",
      "Logistic Regression  0.876777   1.0   7.0   0.0\n",
      "SVC                  0.867299   1.0   7.0   0.0\n",
      "Random Forest        0.890995   7.0   1.0   0.0\n",
      "Neural Network       0.876777   1.0   7.0   0.0\n",
      "\n",
      "==> TOP5 STABILITY SCORE: 0.778\n",
      "----------------------------------------------------------------------------------------------------\n",
      "----------------------------------------------------------------------------------------------------\n",
      "----------------------------------------------------------------------------------------------------\n",
      "\n",
      "RAW_DDDT\n",
      "[LightGBM] [Warning] bagging_fraction is set=0.2, subsample=1.0 will be ignored. Current value: bagging_fraction=0.2\n",
      "[LightGBM] [Warning] bagging_freq is set=10, subsample_freq=0 will be ignored. Current value: bagging_freq=10\n"
     ]
    },
    {
     "data": {
      "application/vnd.jupyter.widget-view+json": {
       "model_id": "b8a7b4d6c647417583c20ad762958f55",
       "version_major": 2,
       "version_minor": 0
      },
      "text/plain": [
       "  0%|          | 0/100 [00:00<?, ?it/s]"
      ]
     },
     "metadata": {},
     "output_type": "display_data"
    },
    {
     "name": "stdout",
     "output_type": "stream",
     "text": [
      "10/10 [==============================] - 0s 1ms/step\n",
      "Train size: 690\n",
      "Selected 4 features out of 12\n",
      "{'Features': [0, 1, 7, 10], 'Wilks test p-value': 1.0, 'High correlation': False}\n",
      "                     Accuracy  FI 1  FI 2  FI 3  FI 4\n",
      "Full Logit           0.746622   NaN   NaN   NaN   NaN\n",
      "Logistic Regression  0.729730   1.0  10.0   7.0   0.0\n",
      "SVC                  0.729730   1.0  10.0   7.0   0.0\n",
      "Random Forest        0.733108   1.0  10.0   0.0   7.0\n",
      "Neural Network       0.716216   1.0  10.0   0.0   7.0\n",
      "\n",
      "==> TOP5 STABILITY SCORE: 0.833\n",
      "----------------------------------------------------------------------------------------------------\n",
      "----------------------------------------------------------------------------------------------------\n",
      "----------------------------------------------------------------------------------------------------\n",
      "\n",
      "R_NEO_PI\n",
      "[LightGBM] [Warning] bagging_fraction is set=0.2, subsample=1.0 will be ignored. Current value: bagging_fraction=0.2\n",
      "[LightGBM] [Warning] bagging_freq is set=10, subsample_freq=0 will be ignored. Current value: bagging_freq=10\n"
     ]
    },
    {
     "data": {
      "application/vnd.jupyter.widget-view+json": {
       "model_id": "0ab7d8dd61bd4068914659504c2aa2c3",
       "version_major": 2,
       "version_minor": 0
      },
      "text/plain": [
       "  0%|          | 0/100 [00:00<?, ?it/s]"
      ]
     },
     "metadata": {},
     "output_type": "display_data"
    },
    {
     "name": "stdout",
     "output_type": "stream",
     "text": [
      "729/729 [==============================] - 1s 1ms/step\n",
      "Train size: 54380\n",
      "Selected 9 features out of 30\n",
      "{'Features': [1, 5, 10, 13, 15, 21, 22, 27, 29], 'Wilks test p-value': 1.0, 'High correlation': False}\n",
      "                     Accuracy  FI 1  FI 2  FI 3  FI 4  FI 5\n",
      "Full Logit           0.906938   NaN   NaN   NaN   NaN   NaN\n",
      "Logistic Regression  0.904921  13.0   5.0  21.0  29.0  22.0\n",
      "SVC                  0.902604  21.0  13.0   5.0  29.0  22.0\n",
      "Random Forest        0.910413  21.0  29.0  13.0   5.0  10.0\n",
      "Neural Network       0.908911   5.0  13.0  29.0  10.0  21.0\n",
      "\n",
      "==> TOP5 STABILITY SCORE: 0.267\n",
      "----------------------------------------------------------------------------------------------------\n",
      "----------------------------------------------------------------------------------------------------\n",
      "----------------------------------------------------------------------------------------------------\n",
      "\n",
      "sPID-5_df\n",
      "[LightGBM] [Warning] bagging_fraction is set=0.2, subsample=1.0 will be ignored. Current value: bagging_fraction=0.2\n",
      "[LightGBM] [Warning] bagging_freq is set=10, subsample_freq=0 will be ignored. Current value: bagging_freq=10\n"
     ]
    },
    {
     "data": {
      "application/vnd.jupyter.widget-view+json": {
       "model_id": "2bbcb2ecc8ab456fa2ff29bd25a6cfe7",
       "version_major": 2,
       "version_minor": 0
      },
      "text/plain": [
       "  0%|          | 0/100 [00:00<?, ?it/s]"
      ]
     },
     "metadata": {},
     "output_type": "display_data"
    },
    {
     "name": "stdout",
     "output_type": "stream",
     "text": [
      "10/10 [==============================] - 0s 2ms/step\n",
      "Train size: 726\n",
      "Selected 13 features out of 25\n",
      "{'Features': [2, 3, 4, 6, 9, 11, 13, 17, 19, 20, 22, 23, 24], 'Wilks test p-value': 1.0, 'High correlation': False}\n",
      "                     Accuracy  FI 1  FI 2  FI 3  FI 4  FI 5\n",
      "Full Logit           0.961538   NaN   NaN   NaN   NaN   NaN\n",
      "Logistic Regression  0.961538  23.0  20.0   4.0  24.0  11.0\n",
      "SVC                  0.958333  23.0  20.0   4.0  11.0  24.0\n",
      "Random Forest        0.974359  23.0  20.0   4.0  19.0  24.0\n",
      "Neural Network       0.958333  23.0  24.0  20.0   4.0   2.0\n",
      "\n",
      "==> TOP5 STABILITY SCORE: 0.533\n",
      "----------------------------------------------------------------------------------------------------\n",
      "----------------------------------------------------------------------------------------------------\n",
      "----------------------------------------------------------------------------------------------------\n",
      "\n"
     ]
    }
   ],
   "source": [
    "data_collection = {}\n",
    "for dataset in [f for f in os.listdir(data_dir) if \"parquet\" in f]:\n",
    "    print(dataset.split(\".\")[0])\n",
    "    X_tr, X_ts, y_tr, y_ts = Classification().prepare_data(f\"{data_dir}\\\\{dataset}\", \"CONDITION\")\n",
    "    var_sel = Classification().variable_selection(X_tr, X_ts, y_tr, y_ts)\n",
    "    \n",
    "    perfs, stability = Classification().benchmark_models(X_tr, X_ts, y_tr, y_ts, var_sel)\n",
    "    data_collection[dataset.split(\".\")[0]] = [X_tr, X_ts, y_tr, y_ts, var_sel, perfs, stability]\n",
    "    print(var_sel)\n",
    "    print(perfs)\n",
    "    print()\n",
    "    print(\"==> TOP5 STABILITY SCORE: {}\".format(stability))\n",
    "    print(\"-\" * 100)\n",
    "    print(\"-\" * 100)\n",
    "    print(\"-\" * 100)\n",
    "    print()"
   ]
  },
  {
   "cell_type": "markdown",
   "id": "f100143e",
   "metadata": {
    "id": "f100143e"
   },
   "source": [
    "#### Summarize results\n",
    "From the following plots and the table of summary for all the datasets, we see that on average, `25%` of the features are kept, with an accuracy drop of `-0.02` and a standard deviation of accuracy between benchmarking models of `0.008`. Moreover, when dividing the datasets between *faking good* and *faking bad*, one can notice that the datasets of the former type are characterized by a milder strength of selection, in fact, on average faking good datasets show 30% of the features kept, while for faking bad it is around 20%.\n",
    "<br>\n",
    "\n",
    "There is however no correlation between the percentage of variables selected and the performance of both `Accuracy Std on selected features` and `Acc. diff. wrt Full logit`. This is expected as it is mainly related to the single instance of the problem: that is, given that all the datasets have linearly separable categories, but as each feature corresponds to an item of a questionnaire, there may be items that are completely (or almost completely) uninformative with respect to the target value. Finally, we can see a fair amount of correlation ($r=-0.53$ with p-value $\\approx 0.03$) between `Acc. diff. wrt Full logit` and `Feat. Top5-Stability`, which indicates that the more models seem to agree in the order of the most important features, the more they all experience a bigger drop in accuracy with respect to a full model."
   ]
  },
  {
   "cell_type": "code",
   "execution_count": null,
   "id": "a9dbf5ae",
   "metadata": {
    "ExecuteTime": {
     "end_time": "2023-01-05T14:52:29.574956Z",
     "start_time": "2023-01-05T14:52:28.930375Z"
    },
    "id": "a9dbf5ae",
    "outputId": "d1032dfb-86d6-4f1b-9527-f67620483695"
   },
   "outputs": [
    {
     "data": {
      "text/html": [
       "<div>\n",
       "<style scoped>\n",
       "    .dataframe tbody tr th:only-of-type {\n",
       "        vertical-align: middle;\n",
       "    }\n",
       "\n",
       "    .dataframe tbody tr th {\n",
       "        vertical-align: top;\n",
       "    }\n",
       "\n",
       "    .dataframe thead th {\n",
       "        text-align: right;\n",
       "    }\n",
       "</style>\n",
       "<table border=\"1\" class=\"dataframe\">\n",
       "  <thead>\n",
       "    <tr style=\"text-align: right;\">\n",
       "      <th></th>\n",
       "      <th>Dataset name</th>\n",
       "      <th>Sample size</th>\n",
       "      <th>Training size</th>\n",
       "      <th>Number of Features</th>\n",
       "      <th>Selected Features</th>\n",
       "      <th>Feat. Top5-Stability</th>\n",
       "      <th>Accuracy - Logit all features</th>\n",
       "      <th>Accuracy - Logit</th>\n",
       "      <th>Accuracy - SVM</th>\n",
       "      <th>Accuracy - RF</th>\n",
       "      <th>Accuracy - MLP</th>\n",
       "      <th>Avg Acc. on selected features</th>\n",
       "      <th>Accuracy Std on selected features</th>\n",
       "      <th>Acc. diff. wrt Full logit</th>\n",
       "    </tr>\n",
       "  </thead>\n",
       "  <tbody>\n",
       "    <tr>\n",
       "      <th>0</th>\n",
       "      <td>BF_df_CTU</td>\n",
       "      <td>442</td>\n",
       "      <td>309</td>\n",
       "      <td>10</td>\n",
       "      <td>1</td>\n",
       "      <td>1.000</td>\n",
       "      <td>0.774</td>\n",
       "      <td>0.737</td>\n",
       "      <td>0.737</td>\n",
       "      <td>0.737</td>\n",
       "      <td>0.737</td>\n",
       "      <td>0.737</td>\n",
       "      <td>0.000</td>\n",
       "      <td>-0.038</td>\n",
       "    </tr>\n",
       "    <tr>\n",
       "      <th>1</th>\n",
       "      <td>BF_df_OU</td>\n",
       "      <td>460</td>\n",
       "      <td>322</td>\n",
       "      <td>10</td>\n",
       "      <td>2</td>\n",
       "      <td>1.000</td>\n",
       "      <td>0.833</td>\n",
       "      <td>0.790</td>\n",
       "      <td>0.790</td>\n",
       "      <td>0.797</td>\n",
       "      <td>0.775</td>\n",
       "      <td>0.788</td>\n",
       "      <td>0.009</td>\n",
       "      <td>-0.045</td>\n",
       "    </tr>\n",
       "    <tr>\n",
       "      <th>2</th>\n",
       "      <td>BF_df_V</td>\n",
       "      <td>486</td>\n",
       "      <td>340</td>\n",
       "      <td>10</td>\n",
       "      <td>1</td>\n",
       "      <td>1.000</td>\n",
       "      <td>0.760</td>\n",
       "      <td>0.685</td>\n",
       "      <td>0.685</td>\n",
       "      <td>0.685</td>\n",
       "      <td>0.685</td>\n",
       "      <td>0.685</td>\n",
       "      <td>0.000</td>\n",
       "      <td>-0.075</td>\n",
       "    </tr>\n",
       "    <tr>\n",
       "      <th>3</th>\n",
       "      <td>DT_df_CC</td>\n",
       "      <td>482</td>\n",
       "      <td>337</td>\n",
       "      <td>27</td>\n",
       "      <td>6</td>\n",
       "      <td>0.667</td>\n",
       "      <td>0.683</td>\n",
       "      <td>0.703</td>\n",
       "      <td>0.703</td>\n",
       "      <td>0.724</td>\n",
       "      <td>0.703</td>\n",
       "      <td>0.709</td>\n",
       "      <td>0.010</td>\n",
       "      <td>0.026</td>\n",
       "    </tr>\n",
       "    <tr>\n",
       "      <th>4</th>\n",
       "      <td>DT_df_JI</td>\n",
       "      <td>864</td>\n",
       "      <td>604</td>\n",
       "      <td>27</td>\n",
       "      <td>12</td>\n",
       "      <td>0.533</td>\n",
       "      <td>0.662</td>\n",
       "      <td>0.642</td>\n",
       "      <td>0.638</td>\n",
       "      <td>0.604</td>\n",
       "      <td>0.627</td>\n",
       "      <td>0.628</td>\n",
       "      <td>0.017</td>\n",
       "      <td>-0.034</td>\n",
       "    </tr>\n",
       "    <tr>\n",
       "      <th>5</th>\n",
       "      <td>IADQ_df</td>\n",
       "      <td>450</td>\n",
       "      <td>315</td>\n",
       "      <td>9</td>\n",
       "      <td>2</td>\n",
       "      <td>0.667</td>\n",
       "      <td>0.852</td>\n",
       "      <td>0.859</td>\n",
       "      <td>0.859</td>\n",
       "      <td>0.852</td>\n",
       "      <td>0.859</td>\n",
       "      <td>0.857</td>\n",
       "      <td>0.004</td>\n",
       "      <td>0.006</td>\n",
       "    </tr>\n",
       "    <tr>\n",
       "      <th>6</th>\n",
       "      <td>IESR_df</td>\n",
       "      <td>358</td>\n",
       "      <td>250</td>\n",
       "      <td>22</td>\n",
       "      <td>2</td>\n",
       "      <td>0.667</td>\n",
       "      <td>0.935</td>\n",
       "      <td>0.907</td>\n",
       "      <td>0.917</td>\n",
       "      <td>0.926</td>\n",
       "      <td>0.917</td>\n",
       "      <td>0.917</td>\n",
       "      <td>0.008</td>\n",
       "      <td>-0.019</td>\n",
       "    </tr>\n",
       "    <tr>\n",
       "      <th>7</th>\n",
       "      <td>NAQ_R_df</td>\n",
       "      <td>712</td>\n",
       "      <td>498</td>\n",
       "      <td>22</td>\n",
       "      <td>1</td>\n",
       "      <td>1.000</td>\n",
       "      <td>0.953</td>\n",
       "      <td>0.930</td>\n",
       "      <td>0.930</td>\n",
       "      <td>0.930</td>\n",
       "      <td>0.930</td>\n",
       "      <td>0.930</td>\n",
       "      <td>0.000</td>\n",
       "      <td>-0.023</td>\n",
       "    </tr>\n",
       "    <tr>\n",
       "      <th>8</th>\n",
       "      <td>PCL5_df</td>\n",
       "      <td>402</td>\n",
       "      <td>281</td>\n",
       "      <td>20</td>\n",
       "      <td>7</td>\n",
       "      <td>0.533</td>\n",
       "      <td>0.810</td>\n",
       "      <td>0.793</td>\n",
       "      <td>0.835</td>\n",
       "      <td>0.760</td>\n",
       "      <td>0.835</td>\n",
       "      <td>0.806</td>\n",
       "      <td>0.036</td>\n",
       "      <td>-0.004</td>\n",
       "    </tr>\n",
       "    <tr>\n",
       "      <th>9</th>\n",
       "      <td>PHQ9_GAD7_df</td>\n",
       "      <td>1118</td>\n",
       "      <td>782</td>\n",
       "      <td>16</td>\n",
       "      <td>7</td>\n",
       "      <td>0.733</td>\n",
       "      <td>0.991</td>\n",
       "      <td>0.982</td>\n",
       "      <td>0.982</td>\n",
       "      <td>0.973</td>\n",
       "      <td>0.988</td>\n",
       "      <td>0.981</td>\n",
       "      <td>0.006</td>\n",
       "      <td>-0.010</td>\n",
       "    </tr>\n",
       "    <tr>\n",
       "      <th>10</th>\n",
       "      <td>PID5_df</td>\n",
       "      <td>824</td>\n",
       "      <td>576</td>\n",
       "      <td>220</td>\n",
       "      <td>7</td>\n",
       "      <td>0.533</td>\n",
       "      <td>0.960</td>\n",
       "      <td>0.960</td>\n",
       "      <td>0.956</td>\n",
       "      <td>0.960</td>\n",
       "      <td>0.960</td>\n",
       "      <td>0.959</td>\n",
       "      <td>0.002</td>\n",
       "      <td>-0.001</td>\n",
       "    </tr>\n",
       "    <tr>\n",
       "      <th>11</th>\n",
       "      <td>PRFQ_df</td>\n",
       "      <td>678</td>\n",
       "      <td>474</td>\n",
       "      <td>18</td>\n",
       "      <td>8</td>\n",
       "      <td>0.400</td>\n",
       "      <td>0.936</td>\n",
       "      <td>0.902</td>\n",
       "      <td>0.907</td>\n",
       "      <td>0.912</td>\n",
       "      <td>0.907</td>\n",
       "      <td>0.907</td>\n",
       "      <td>0.004</td>\n",
       "      <td>-0.029</td>\n",
       "    </tr>\n",
       "    <tr>\n",
       "      <th>12</th>\n",
       "      <td>PRMQ_df</td>\n",
       "      <td>1404</td>\n",
       "      <td>982</td>\n",
       "      <td>16</td>\n",
       "      <td>3</td>\n",
       "      <td>0.778</td>\n",
       "      <td>0.908</td>\n",
       "      <td>0.877</td>\n",
       "      <td>0.867</td>\n",
       "      <td>0.891</td>\n",
       "      <td>0.877</td>\n",
       "      <td>0.878</td>\n",
       "      <td>0.010</td>\n",
       "      <td>-0.030</td>\n",
       "    </tr>\n",
       "    <tr>\n",
       "      <th>13</th>\n",
       "      <td>RAW_DDDT</td>\n",
       "      <td>986</td>\n",
       "      <td>690</td>\n",
       "      <td>12</td>\n",
       "      <td>4</td>\n",
       "      <td>0.833</td>\n",
       "      <td>0.747</td>\n",
       "      <td>0.730</td>\n",
       "      <td>0.730</td>\n",
       "      <td>0.733</td>\n",
       "      <td>0.716</td>\n",
       "      <td>0.727</td>\n",
       "      <td>0.007</td>\n",
       "      <td>-0.019</td>\n",
       "    </tr>\n",
       "    <tr>\n",
       "      <th>14</th>\n",
       "      <td>R_NEO_PI</td>\n",
       "      <td>77687</td>\n",
       "      <td>54380</td>\n",
       "      <td>30</td>\n",
       "      <td>9</td>\n",
       "      <td>0.267</td>\n",
       "      <td>0.907</td>\n",
       "      <td>0.905</td>\n",
       "      <td>0.903</td>\n",
       "      <td>0.910</td>\n",
       "      <td>0.909</td>\n",
       "      <td>0.907</td>\n",
       "      <td>0.004</td>\n",
       "      <td>-0.000</td>\n",
       "    </tr>\n",
       "    <tr>\n",
       "      <th>15</th>\n",
       "      <td>sPID-5_df</td>\n",
       "      <td>1038</td>\n",
       "      <td>726</td>\n",
       "      <td>25</td>\n",
       "      <td>13</td>\n",
       "      <td>0.533</td>\n",
       "      <td>0.962</td>\n",
       "      <td>0.962</td>\n",
       "      <td>0.958</td>\n",
       "      <td>0.974</td>\n",
       "      <td>0.958</td>\n",
       "      <td>0.963</td>\n",
       "      <td>0.008</td>\n",
       "      <td>0.002</td>\n",
       "    </tr>\n",
       "  </tbody>\n",
       "</table>\n",
       "</div>"
      ],
      "text/plain": [
       "    Dataset name  Sample size  Training size  Number of Features  \\\n",
       "0      BF_df_CTU          442            309                  10   \n",
       "1       BF_df_OU          460            322                  10   \n",
       "2        BF_df_V          486            340                  10   \n",
       "3       DT_df_CC          482            337                  27   \n",
       "4       DT_df_JI          864            604                  27   \n",
       "5        IADQ_df          450            315                   9   \n",
       "6        IESR_df          358            250                  22   \n",
       "7       NAQ_R_df          712            498                  22   \n",
       "8        PCL5_df          402            281                  20   \n",
       "9   PHQ9_GAD7_df         1118            782                  16   \n",
       "10       PID5_df          824            576                 220   \n",
       "11       PRFQ_df          678            474                  18   \n",
       "12       PRMQ_df         1404            982                  16   \n",
       "13      RAW_DDDT          986            690                  12   \n",
       "14      R_NEO_PI        77687          54380                  30   \n",
       "15     sPID-5_df         1038            726                  25   \n",
       "\n",
       "    Selected Features  Feat. Top5-Stability  Accuracy - Logit all features  \\\n",
       "0                   1                 1.000                          0.774   \n",
       "1                   2                 1.000                          0.833   \n",
       "2                   1                 1.000                          0.760   \n",
       "3                   6                 0.667                          0.683   \n",
       "4                  12                 0.533                          0.662   \n",
       "5                   2                 0.667                          0.852   \n",
       "6                   2                 0.667                          0.935   \n",
       "7                   1                 1.000                          0.953   \n",
       "8                   7                 0.533                          0.810   \n",
       "9                   7                 0.733                          0.991   \n",
       "10                  7                 0.533                          0.960   \n",
       "11                  8                 0.400                          0.936   \n",
       "12                  3                 0.778                          0.908   \n",
       "13                  4                 0.833                          0.747   \n",
       "14                  9                 0.267                          0.907   \n",
       "15                 13                 0.533                          0.962   \n",
       "\n",
       "    Accuracy - Logit  Accuracy - SVM  Accuracy - RF  Accuracy - MLP  \\\n",
       "0              0.737           0.737          0.737           0.737   \n",
       "1              0.790           0.790          0.797           0.775   \n",
       "2              0.685           0.685          0.685           0.685   \n",
       "3              0.703           0.703          0.724           0.703   \n",
       "4              0.642           0.638          0.604           0.627   \n",
       "5              0.859           0.859          0.852           0.859   \n",
       "6              0.907           0.917          0.926           0.917   \n",
       "7              0.930           0.930          0.930           0.930   \n",
       "8              0.793           0.835          0.760           0.835   \n",
       "9              0.982           0.982          0.973           0.988   \n",
       "10             0.960           0.956          0.960           0.960   \n",
       "11             0.902           0.907          0.912           0.907   \n",
       "12             0.877           0.867          0.891           0.877   \n",
       "13             0.730           0.730          0.733           0.716   \n",
       "14             0.905           0.903          0.910           0.909   \n",
       "15             0.962           0.958          0.974           0.958   \n",
       "\n",
       "    Avg Acc. on selected features  Accuracy Std on selected features  \\\n",
       "0                           0.737                              0.000   \n",
       "1                           0.788                              0.009   \n",
       "2                           0.685                              0.000   \n",
       "3                           0.709                              0.010   \n",
       "4                           0.628                              0.017   \n",
       "5                           0.857                              0.004   \n",
       "6                           0.917                              0.008   \n",
       "7                           0.930                              0.000   \n",
       "8                           0.806                              0.036   \n",
       "9                           0.981                              0.006   \n",
       "10                          0.959                              0.002   \n",
       "11                          0.907                              0.004   \n",
       "12                          0.878                              0.010   \n",
       "13                          0.727                              0.007   \n",
       "14                          0.907                              0.004   \n",
       "15                          0.963                              0.008   \n",
       "\n",
       "    Acc. diff. wrt Full logit  \n",
       "0                      -0.038  \n",
       "1                      -0.045  \n",
       "2                      -0.075  \n",
       "3                       0.026  \n",
       "4                      -0.034  \n",
       "5                       0.006  \n",
       "6                      -0.019  \n",
       "7                      -0.023  \n",
       "8                      -0.004  \n",
       "9                      -0.010  \n",
       "10                     -0.001  \n",
       "11                     -0.029  \n",
       "12                     -0.030  \n",
       "13                     -0.019  \n",
       "14                     -0.000  \n",
       "15                      0.002  "
      ]
     },
     "execution_count": 8,
     "metadata": {},
     "output_type": "execute_result"
    }
   ],
   "source": [
    "pimp_summary = evaluation.summary_table(data_collection, stability = True, neural_net = True)\n",
    "pimp_summary"
   ]
  },
  {
   "cell_type": "markdown",
   "id": "1dcdff65",
   "metadata": {},
   "source": [
    "From the plot below it is evident that for most of the datasets at hand, the level of (average) accuracy obtained with different models if fairly high, and it is always higher than 50%, which corresponds to a random classifier."
   ]
  },
  {
   "cell_type": "code",
   "execution_count": null,
   "id": "1a87c35a",
   "metadata": {
    "ExecuteTime": {
     "end_time": "2023-01-05T14:52:30.890705Z",
     "start_time": "2023-01-05T14:52:29.577796Z"
    },
    "id": "1a87c35a",
    "outputId": "cee0adac-ef19-4a1b-b0be-c938a33cf97d"
   },
   "outputs": [
    {
     "data": {
      "image/png": "[encoded data removed]",
      "text/plain": [
       "<Figure size 1296x504 with 1 Axes>"
      ]
     },
     "metadata": {
      "needs_background": "light"
     },
     "output_type": "display_data"
    }
   ],
   "source": [
    "summary_graphs.accuracy_barplot(pimp_summary, save = True, prefix = \"PERMIMP\")"
   ]
  },
  {
   "cell_type": "markdown",
   "id": "ee302daf",
   "metadata": {},
   "source": [
    "We can see how for most of the datasets the difference in performance lies below the ±2% interval, except for PCL5 (Identify victims of PTSD), which looks almost like an outlier. The fact that for three datasets (i.e. BF_CTU, BF_V and NAQ_R) the standard deviation occurs since the set of selected variables contains only one variable."
   ]
  },
  {
   "cell_type": "code",
   "execution_count": null,
   "id": "fe0e0a56",
   "metadata": {
    "ExecuteTime": {
     "end_time": "2023-01-05T14:52:32.154548Z",
     "start_time": "2023-01-05T14:52:30.895819Z"
    },
    "id": "fe0e0a56",
    "outputId": "5fa584f1-fe98-462b-db4b-0781c968b09a"
   },
   "outputs": [
    {
     "data": {
      "image/png": "[encoded data removed]",
      "text/plain": [
       "<Figure size 1296x432 with 1 Axes>"
      ]
     },
     "metadata": {
      "needs_background": "light"
     },
     "output_type": "display_data"
    }
   ],
   "source": [
    "summary_graphs.accuracy_std(pimp_summary, save = True, prefix = \"PERMIMP\")"
   ]
  },
  {
   "cell_type": "markdown",
   "id": "26dc8d6f",
   "metadata": {},
   "source": [
    "Interestingly, if *faking good* datasets show more preservation of features, they also show a bigger drop in accuracy with respect to the full model, but a smaller standard deviation between benchmarking models.  \n",
    "By highlighting these differences, and comparing them with the fact that on average *faking bad* datasets show a much higher accuracy, it seems as if the questionnaires associated with these datasets include some items that are more informative than those of *faking good*, thus making lie detection way easier."
   ]
  },
  {
   "cell_type": "code",
   "execution_count": null,
   "id": "5c6118b9",
   "metadata": {
    "ExecuteTime": {
     "end_time": "2023-01-05T14:52:33.156294Z",
     "start_time": "2023-01-05T14:52:32.156876Z"
    },
    "id": "5c6118b9",
    "outputId": "2fd1383f-bdff-4e4d-b7c9-d91506799c59"
   },
   "outputs": [
    {
     "data": {
      "image/png": "[encoded data removed]",
      "text/plain": [
       "<Figure size 1296x720 with 2 Axes>"
      ]
     },
     "metadata": {
      "needs_background": "light"
     },
     "output_type": "display_data"
    }
   ],
   "source": [
    "summary_graphs.faking_type_comparison(pimp_summary, prefix = \"PERMIMP\", save = False)"
   ]
  },
  {
   "cell_type": "markdown",
   "id": "fb4fb8dc",
   "metadata": {
    "id": "fb4fb8dc"
   },
   "source": [
    "### Mutual Information (JMIM)\n",
    "\n",
    "Joint Mutual Information Maximization (JMIM)<sup>[1]</sup> is a greedy algorithm used to select the best subset of features to predict a response variable. The way the algorithm works is based on information theory and especially mutual information. Mutual information can be expressed as the amount of information provided by variable $X$, which reduces the uncertainty of the variable, i.e. mutual information (MI) is zero if the random variables are statistically independent<sup>[2]</sup>.\n",
    "MI does not make an assumption of linearity between the variables and can deal both with categorical and numerical data with two or more class values<sup>[3]</sup>. With this algorithm, we especially deal with joint mutual information which is simply the mutual information between a set of variables and another single variable. In this case, the set of variables will represent the already chosen features and the other variable will be the response variable. The way the algorithm proceeds so is the following:\n",
    "\n",
    "1. The first feature is simply chosen by taking the feature which maximizes the MI with the response variable. <br>\n",
    "2. From now on every other feature will be chosen based on the JMIM criteria, so we will choose the feature that maximizes the MI between the set of already chosen features (plus itself) and the response variable. <br>\n",
    "3. We repeat this procedure until the desired number of features is reached. <br>\n",
    "\n",
    "The advantage of this algorithm over all the other MI-based competitors is that for the MI maximization, it takes into account every single possible new feature with the already chosen features, in this way we will avoid choosing redundant features unlike in other methods such as Conditional Mutual Information Maximization (CMIM) where we simply maximize the mutual information between the remaining features and the response variable.\n",
    "\n",
    "In this specific case, the algorithm is run in order to return a subset of features that consists of all of the features of the dataset. This is done in order to have a \"score\" of how much information is added to the model when choosing a specific variable. If we look at the trend across datasets we can see that as we add features to the \"predictors\" set we have a declining level of added information (e.g the features don't add much value and we risk overfitting). \n",
    "So what is practically done is that we run the algorithm until the features selected add a value of at least 0.8 (scores go from 0 to 1) and after that we stop and use the set, up to that point, of selected features as the predictor variables.\n",
    "\n",
    "The code reference is `engine.py`, the function is `mutual_info`. \n",
    "\n",
    "##### SUPPORTING PAPERS\n",
    "[1] M. Bennasar, Y. Hicks and R. Setchi, *Feature selection using Joint Mutual Information Maximisation*, 2015.  \n",
    "[2] A. Kraskov, H. Stogbauer and P. Grassberger, *Estimating mutual information*. Phys. Rev. E 69, 2004.  \n",
    "[3] B. C. Ross *Mutual Information between Discrete and Continuous Data Sets*. PLoS ONE 9(2), 2014.  "
   ]
  },
  {
   "cell_type": "code",
   "execution_count": null,
   "id": "c63d1bd7",
   "metadata": {
    "ExecuteTime": {
     "end_time": "2023-01-05T14:57:26.307669Z",
     "start_time": "2023-01-05T14:52:33.162347Z"
    },
    "colab": {
     "referenced_widgets": [
      "58a5e16c9baf4bfa99efffcce4bd3475",
      "8f7335f6d49e4e369746aad16661eb35",
      "3bb74c8988594d82bcea3568da039ee1",
      "16e8970bd39840b4abf0be0a7945fff9",
      "4e88b0a63276458bafa44cc68531a876",
      "8939a4173d814afeaf7ecb5251c77d64",
      "3d20988943a84588bb7b32b289a39df3",
      "aa4349a4714c456bae632c6157978fcb",
      "99af526df0aa41fdb1d2deeb95c3032a",
      "cba1ae5d7c844a1ab291013709c97b5f",
      "f07d764187e94cd98d2b7a7e2483465b",
      "83cba8b511de4f488120f9a6e9f4e343",
      "99c5453cb6144eff894137edee3a18f3",
      "8f8c9b1f475f4eaf99e5092eda7ab115",
      "f561700a223d484f8321fee54ae235df",
      "9c7bc2e5b15946c4a90a2761d00d319a"
     ]
    },
    "id": "c63d1bd7",
    "outputId": "c51e8d19-cfeb-4acb-bbb4-5cf5c3ca59e7"
   },
   "outputs": [
    {
     "name": "stdout",
     "output_type": "stream",
     "text": [
      "BF_df_CTU\n"
     ]
    },
    {
     "data": {
      "application/vnd.jupyter.widget-view+json": {
       "model_id": "58a5e16c9baf4bfa99efffcce4bd3475",
       "version_major": 2,
       "version_minor": 0
      },
      "text/plain": [
       "  0%|          | 0/100 [00:00<?, ?it/s]"
      ]
     },
     "metadata": {},
     "output_type": "display_data"
    },
    {
     "name": "stdout",
     "output_type": "stream",
     "text": [
      "5/5 [==============================] - 0s 2ms/step\n",
      "Train size: 309\n",
      "Selected 3 features out of 10\n",
      "[4 7 2]\n",
      "                     Accuracy  FI 1  FI 2  FI 3\n",
      "Full Logit           0.774436   NaN   NaN   NaN\n",
      "Logistic Regression  0.819549   7.0   2.0   4.0\n",
      "SVC                  0.819549   7.0   2.0   4.0\n",
      "Random Forest        0.804511   7.0   4.0   2.0\n",
      "Neural Network       0.842105   7.0   4.0   2.0\n",
      "\n",
      "==> TOP5 STABILITY SCORE: 0.778\n",
      "----------------------------------------------------------------------------------------------------\n",
      "----------------------------------------------------------------------------------------------------\n",
      "----------------------------------------------------------------------------------------------------\n",
      "\n",
      "BF_df_OU\n"
     ]
    },
    {
     "data": {
      "application/vnd.jupyter.widget-view+json": {
       "model_id": "8f7335f6d49e4e369746aad16661eb35",
       "version_major": 2,
       "version_minor": 0
      },
      "text/plain": [
       "  0%|          | 0/100 [00:00<?, ?it/s]"
      ]
     },
     "metadata": {},
     "output_type": "display_data"
    },
    {
     "name": "stdout",
     "output_type": "stream",
     "text": [
      "5/5 [==============================] - 0s 2ms/step\n",
      "Train size: 322\n",
      "Selected 2 features out of 10\n",
      "[0 7]\n",
      "                     Accuracy  FI 1  FI 2\n",
      "Full Logit           0.833333   NaN   NaN\n",
      "Logistic Regression  0.746377   7.0   0.0\n",
      "SVC                  0.753623   7.0   0.0\n",
      "Random Forest        0.768116   7.0   0.0\n",
      "Neural Network       0.760870   7.0   0.0\n",
      "\n",
      "==> TOP5 STABILITY SCORE: 1.0\n",
      "----------------------------------------------------------------------------------------------------\n",
      "----------------------------------------------------------------------------------------------------\n",
      "----------------------------------------------------------------------------------------------------\n",
      "\n",
      "BF_df_V\n"
     ]
    },
    {
     "data": {
      "application/vnd.jupyter.widget-view+json": {
       "model_id": "3bb74c8988594d82bcea3568da039ee1",
       "version_major": 2,
       "version_minor": 0
      },
      "text/plain": [
       "  0%|          | 0/100 [00:00<?, ?it/s]"
      ]
     },
     "metadata": {},
     "output_type": "display_data"
    },
    {
     "name": "stdout",
     "output_type": "stream",
     "text": [
      "5/5 [==============================] - 0s 2ms/step\n",
      "Train size: 340\n",
      "Selected 3 features out of 10\n",
      "[4 0 6]\n",
      "                     Accuracy  FI 1  FI 2  FI 3\n",
      "Full Logit           0.760274   NaN   NaN   NaN\n",
      "Logistic Regression  0.760274   6.0   0.0   4.0\n",
      "SVC                  0.760274   6.0   0.0   4.0\n",
      "Random Forest        0.760274   6.0   4.0   0.0\n",
      "Neural Network       0.760274   4.0   0.0   6.0\n",
      "\n",
      "==> TOP5 STABILITY SCORE: 0.556\n",
      "----------------------------------------------------------------------------------------------------\n",
      "----------------------------------------------------------------------------------------------------\n",
      "----------------------------------------------------------------------------------------------------\n",
      "\n",
      "DT_df_CC\n"
     ]
    },
    {
     "data": {
      "application/vnd.jupyter.widget-view+json": {
       "model_id": "16e8970bd39840b4abf0be0a7945fff9",
       "version_major": 2,
       "version_minor": 0
      },
      "text/plain": [
       "  0%|          | 0/100 [00:00<?, ?it/s]"
      ]
     },
     "metadata": {},
     "output_type": "display_data"
    },
    {
     "name": "stdout",
     "output_type": "stream",
     "text": [
      "5/5 [==============================] - 0s 2ms/step\n",
      "Train size: 337\n",
      "Selected 2 features out of 27\n",
      "[10  6]\n",
      "                     Accuracy  FI 1  FI 2\n",
      "Full Logit           0.682759   NaN   NaN\n",
      "Logistic Regression  0.689655  10.0   6.0\n",
      "SVC                  0.689655  10.0   6.0\n",
      "Random Forest        0.689655  10.0   6.0\n",
      "Neural Network       0.689655   6.0  10.0\n",
      "\n",
      "==> TOP5 STABILITY SCORE: 0.667\n",
      "----------------------------------------------------------------------------------------------------\n",
      "----------------------------------------------------------------------------------------------------\n",
      "----------------------------------------------------------------------------------------------------\n",
      "\n",
      "DT_df_JI\n"
     ]
    },
    {
     "data": {
      "application/vnd.jupyter.widget-view+json": {
       "model_id": "4e88b0a63276458bafa44cc68531a876",
       "version_major": 2,
       "version_minor": 0
      },
      "text/plain": [
       "  0%|          | 0/100 [00:00<?, ?it/s]"
      ]
     },
     "metadata": {},
     "output_type": "display_data"
    },
    {
     "name": "stdout",
     "output_type": "stream",
     "text": [
      "9/9 [==============================] - 0s 2ms/step\n",
      "Train size: 604\n",
      "Selected 2 features out of 27\n",
      "[2 6]\n",
      "                     Accuracy  FI 1  FI 2\n",
      "Full Logit           0.661538   NaN   NaN\n",
      "Logistic Regression  0.642308   2.0   6.0\n",
      "SVC                  0.642308   2.0   6.0\n",
      "Random Forest        0.623077   2.0   6.0\n",
      "Neural Network       0.642308   2.0   6.0\n",
      "\n",
      "==> TOP5 STABILITY SCORE: 1.0\n",
      "----------------------------------------------------------------------------------------------------\n",
      "----------------------------------------------------------------------------------------------------\n",
      "----------------------------------------------------------------------------------------------------\n",
      "\n",
      "IADQ_df\n"
     ]
    },
    {
     "data": {
      "application/vnd.jupyter.widget-view+json": {
       "model_id": "8939a4173d814afeaf7ecb5251c77d64",
       "version_major": 2,
       "version_minor": 0
      },
      "text/plain": [
       "  0%|          | 0/100 [00:00<?, ?it/s]"
      ]
     },
     "metadata": {},
     "output_type": "display_data"
    },
    {
     "name": "stdout",
     "output_type": "stream",
     "text": [
      "5/5 [==============================] - 0s 2ms/step\n",
      "Train size: 315\n",
      "Selected 6 features out of 9\n",
      "[1 4 8 2 6 3]\n",
      "                     Accuracy  FI 1  FI 2  FI 3  FI 4  FI 5\n",
      "Full Logit           0.851852   NaN   NaN   NaN   NaN   NaN\n",
      "Logistic Regression  0.844444   3.0   1.0   4.0   8.0   6.0\n",
      "SVC                  0.844444   3.0   1.0   8.0   4.0   2.0\n",
      "Random Forest        0.829630   8.0   4.0   3.0   1.0   6.0\n",
      "Neural Network       0.829630   8.0   2.0   6.0   1.0   4.0\n",
      "\n",
      "==> TOP5 STABILITY SCORE: 0.333\n",
      "----------------------------------------------------------------------------------------------------\n",
      "----------------------------------------------------------------------------------------------------\n",
      "----------------------------------------------------------------------------------------------------\n",
      "\n",
      "IESR_df\n"
     ]
    },
    {
     "data": {
      "application/vnd.jupyter.widget-view+json": {
       "model_id": "3d20988943a84588bb7b32b289a39df3",
       "version_major": 2,
       "version_minor": 0
      },
      "text/plain": [
       "  0%|          | 0/100 [00:00<?, ?it/s]"
      ]
     },
     "metadata": {},
     "output_type": "display_data"
    },
    {
     "name": "stdout",
     "output_type": "stream",
     "text": [
      "4/4 [==============================] - 0s 2ms/step\n",
      "Train size: 250\n",
      "Selected 11 features out of 22\n",
      "[17  8 18 15 16 19 11 14 13  7  5]\n",
      "                     Accuracy  FI 1  FI 2  FI 3  FI 4  FI 5\n",
      "Full Logit           0.935185   NaN   NaN   NaN   NaN   NaN\n",
      "Logistic Regression  0.907407   8.0  18.0  19.0  13.0  14.0\n",
      "SVC                  0.888889   8.0  18.0  19.0  13.0  14.0\n",
      "Random Forest        0.898148   8.0  13.0   7.0  19.0  17.0\n",
      "Neural Network       0.925926  14.0  13.0  18.0  19.0   7.0\n",
      "\n",
      "==> TOP5 STABILITY SCORE: 0.533\n",
      "----------------------------------------------------------------------------------------------------\n",
      "----------------------------------------------------------------------------------------------------\n",
      "----------------------------------------------------------------------------------------------------\n",
      "\n",
      "NAQ_R_df\n"
     ]
    },
    {
     "data": {
      "application/vnd.jupyter.widget-view+json": {
       "model_id": "aa4349a4714c456bae632c6157978fcb",
       "version_major": 2,
       "version_minor": 0
      },
      "text/plain": [
       "  0%|          | 0/100 [00:00<?, ?it/s]"
      ]
     },
     "metadata": {},
     "output_type": "display_data"
    },
    {
     "name": "stdout",
     "output_type": "stream",
     "text": [
      "7/7 [==============================] - 0s 2ms/step\n",
      "Train size: 498\n",
      "Selected 21 features out of 22\n",
      "[ 1 15 12  5 16 10 17 19  8  6 13 21  9  7 18 11  3 14  4  0 20]\n",
      "                     Accuracy  FI 1  FI 2  FI 3  FI 4  FI 5\n",
      "Full Logit           0.953271   NaN   NaN   NaN   NaN   NaN\n",
      "Logistic Regression  0.971963   9.0  21.0  12.0   8.0   5.0\n",
      "SVC                  0.962617   9.0  21.0   5.0  12.0   3.0\n",
      "Random Forest        0.962617  21.0  15.0  11.0   6.0   3.0\n",
      "Neural Network       0.962617  19.0  12.0  10.0   8.0  13.0\n",
      "\n",
      "==> TOP5 STABILITY SCORE: 0.267\n",
      "----------------------------------------------------------------------------------------------------\n",
      "----------------------------------------------------------------------------------------------------\n",
      "----------------------------------------------------------------------------------------------------\n",
      "\n",
      "PCL5_df\n"
     ]
    },
    {
     "data": {
      "application/vnd.jupyter.widget-view+json": {
       "model_id": "99af526df0aa41fdb1d2deeb95c3032a",
       "version_major": 2,
       "version_minor": 0
      },
      "text/plain": [
       "  0%|          | 0/100 [00:00<?, ?it/s]"
      ]
     },
     "metadata": {},
     "output_type": "display_data"
    },
    {
     "name": "stdout",
     "output_type": "stream",
     "text": [
      "4/4 [==============================] - 0s 2ms/step\n",
      "Train size: 281\n",
      "Selected 5 features out of 20\n",
      "[18  1 13  2 10]\n",
      "                     Accuracy  FI 1  FI 2  FI 3  FI 4  FI 5\n",
      "Full Logit           0.809917   NaN   NaN   NaN   NaN   NaN\n",
      "Logistic Regression  0.768595   1.0  13.0   2.0  10.0  18.0\n",
      "SVC                  0.776860   1.0  13.0  10.0   2.0  18.0\n",
      "Random Forest        0.760331  13.0   1.0   2.0  10.0  18.0\n",
      "Neural Network       0.834711   2.0  13.0   1.0  10.0  18.0\n",
      "\n",
      "==> TOP5 STABILITY SCORE: 0.6\n",
      "----------------------------------------------------------------------------------------------------\n",
      "----------------------------------------------------------------------------------------------------\n",
      "----------------------------------------------------------------------------------------------------\n",
      "\n",
      "PHQ9_GAD7_df\n"
     ]
    },
    {
     "data": {
      "application/vnd.jupyter.widget-view+json": {
       "model_id": "cba1ae5d7c844a1ab291013709c97b5f",
       "version_major": 2,
       "version_minor": 0
      },
      "text/plain": [
       "  0%|          | 0/100 [00:00<?, ?it/s]"
      ]
     },
     "metadata": {},
     "output_type": "display_data"
    },
    {
     "name": "stdout",
     "output_type": "stream",
     "text": [
      "11/11 [==============================] - 0s 3ms/step\n",
      "Train size: 782\n",
      "Selected 7 features out of 16\n",
      "[ 1  6  9  0  5  7 12]\n",
      "                     Accuracy  FI 1  FI 2  FI 3  FI 4  FI 5\n",
      "Full Logit           0.991071   NaN   NaN   NaN   NaN   NaN\n",
      "Logistic Regression  0.982143   7.0   6.0   1.0   9.0   5.0\n",
      "SVC                  0.982143   7.0   1.0   6.0   0.0   9.0\n",
      "Random Forest        0.973214   7.0   1.0  12.0   6.0   0.0\n",
      "Neural Network       0.982143   7.0   6.0   5.0   1.0   9.0\n",
      "\n",
      "==> TOP5 STABILITY SCORE: 0.4\n",
      "----------------------------------------------------------------------------------------------------\n",
      "----------------------------------------------------------------------------------------------------\n",
      "----------------------------------------------------------------------------------------------------\n",
      "\n",
      "PID5_df\n"
     ]
    },
    {
     "data": {
      "application/vnd.jupyter.widget-view+json": {
       "model_id": "f07d764187e94cd98d2b7a7e2483465b",
       "version_major": 2,
       "version_minor": 0
      },
      "text/plain": [
       "  0%|          | 0/100 [00:00<?, ?it/s]"
      ]
     },
     "metadata": {},
     "output_type": "display_data"
    },
    {
     "name": "stdout",
     "output_type": "stream",
     "text": [
      "8/8 [==============================] - 0s 2ms/step\n",
      "Train size: 576\n",
      "Selected 13 features out of 220\n",
      "[165 132 191 171 151  57 138   1 189 177 216 135  35]\n",
      "                     Accuracy   FI 1   FI 2   FI 3   FI 4   FI 5\n",
      "Full Logit           0.959677    NaN    NaN    NaN    NaN    NaN\n",
      "Logistic Regression  0.955645    1.0  165.0  191.0  177.0   57.0\n",
      "SVC                  0.955645    1.0  165.0  191.0  177.0  171.0\n",
      "Random Forest        0.947581    1.0  165.0  132.0   57.0  171.0\n",
      "Neural Network       0.947581  165.0  135.0  177.0    1.0   57.0\n",
      "\n",
      "==> TOP5 STABILITY SCORE: 0.533\n",
      "----------------------------------------------------------------------------------------------------\n",
      "----------------------------------------------------------------------------------------------------\n",
      "----------------------------------------------------------------------------------------------------\n",
      "\n",
      "PRFQ_df\n"
     ]
    },
    {
     "data": {
      "application/vnd.jupyter.widget-view+json": {
       "model_id": "83cba8b511de4f488120f9a6e9f4e343",
       "version_major": 2,
       "version_minor": 0
      },
      "text/plain": [
       "  0%|          | 0/100 [00:00<?, ?it/s]"
      ]
     },
     "metadata": {},
     "output_type": "display_data"
    },
    {
     "name": "stdout",
     "output_type": "stream",
     "text": [
      "7/7 [==============================] - 0s 1ms/step\n",
      "Train size: 474\n",
      "Selected 4 features out of 18\n",
      "[6 2 8 7]\n",
      "                     Accuracy  FI 1  FI 2  FI 3  FI 4\n",
      "Full Logit           0.936275   NaN   NaN   NaN   NaN\n",
      "Logistic Regression  0.877451   6.0   7.0   8.0   2.0\n",
      "SVC                  0.877451   6.0   7.0   8.0   2.0\n",
      "Random Forest        0.872549   6.0   2.0   8.0   7.0\n",
      "Neural Network       0.911765   7.0   8.0   6.0   2.0\n",
      "\n",
      "==> TOP5 STABILITY SCORE: 0.583\n",
      "----------------------------------------------------------------------------------------------------\n",
      "----------------------------------------------------------------------------------------------------\n",
      "----------------------------------------------------------------------------------------------------\n",
      "\n",
      "PRMQ_df\n"
     ]
    },
    {
     "data": {
      "application/vnd.jupyter.widget-view+json": {
       "model_id": "99c5453cb6144eff894137edee3a18f3",
       "version_major": 2,
       "version_minor": 0
      },
      "text/plain": [
       "  0%|          | 0/100 [00:00<?, ?it/s]"
      ]
     },
     "metadata": {},
     "output_type": "display_data"
    },
    {
     "name": "stdout",
     "output_type": "stream",
     "text": [
      "14/14 [==============================] - 0s 1ms/step\n",
      "Train size: 982\n",
      "Selected 5 features out of 16\n",
      "[ 7 12  4 14 15]\n",
      "                     Accuracy  FI 1  FI 2  FI 3  FI 4  FI 5\n",
      "Full Logit           0.907583   NaN   NaN   NaN   NaN   NaN\n",
      "Logistic Regression  0.864929  12.0   7.0   4.0  14.0  15.0\n",
      "SVC                  0.862559  12.0   7.0   4.0  14.0  15.0\n",
      "Random Forest        0.864929  12.0   7.0   4.0  14.0  15.0\n",
      "Neural Network       0.879147   7.0  12.0  14.0   4.0  15.0\n",
      "\n",
      "==> TOP5 STABILITY SCORE: 0.733\n",
      "----------------------------------------------------------------------------------------------------\n",
      "----------------------------------------------------------------------------------------------------\n",
      "----------------------------------------------------------------------------------------------------\n",
      "\n",
      "RAW_DDDT\n"
     ]
    },
    {
     "data": {
      "application/vnd.jupyter.widget-view+json": {
       "model_id": "8f8c9b1f475f4eaf99e5092eda7ab115",
       "version_major": 2,
       "version_minor": 0
      },
      "text/plain": [
       "  0%|          | 0/100 [00:00<?, ?it/s]"
      ]
     },
     "metadata": {},
     "output_type": "display_data"
    },
    {
     "name": "stdout",
     "output_type": "stream",
     "text": [
      "10/10 [==============================] - 0s 2ms/step\n",
      "Train size: 690\n",
      "Selected 3 features out of 12\n",
      "[10  0  7]\n",
      "                     Accuracy  FI 1  FI 2  FI 3\n",
      "Full Logit           0.746622   NaN   NaN   NaN\n",
      "Logistic Regression  0.736486   7.0  10.0   0.0\n",
      "SVC                  0.746622   7.0  10.0   0.0\n",
      "Random Forest        0.756757  10.0   7.0   0.0\n",
      "Neural Network       0.739865  10.0   0.0   7.0\n",
      "\n",
      "==> TOP5 STABILITY SCORE: 0.556\n",
      "----------------------------------------------------------------------------------------------------\n",
      "----------------------------------------------------------------------------------------------------\n",
      "----------------------------------------------------------------------------------------------------\n",
      "\n",
      "R_NEO_PI\n"
     ]
    },
    {
     "data": {
      "application/vnd.jupyter.widget-view+json": {
       "model_id": "f561700a223d484f8321fee54ae235df",
       "version_major": 2,
       "version_minor": 0
      },
      "text/plain": [
       "  0%|          | 0/100 [00:00<?, ?it/s]"
      ]
     },
     "metadata": {},
     "output_type": "display_data"
    },
    {
     "name": "stdout",
     "output_type": "stream",
     "text": [
      "729/729 [==============================] - 1s 2ms/step\n",
      "Train size: 54380\n",
      "Selected 6 features out of 30\n",
      "[13 29 22  5 21 14]\n",
      "                     Accuracy  FI 1  FI 2  FI 3  FI 4  FI 5\n",
      "Full Logit           0.906938   NaN   NaN   NaN   NaN   NaN\n",
      "Logistic Regression  0.902433  13.0  29.0  21.0   5.0  22.0\n",
      "SVC                  0.900888  13.0  21.0  29.0   5.0  22.0\n",
      "Random Forest        0.906294  29.0  13.0   5.0  21.0  22.0\n",
      "Neural Network       0.904964  29.0  13.0  22.0   5.0  21.0\n",
      "\n",
      "==> TOP5 STABILITY SCORE: 0.467\n",
      "----------------------------------------------------------------------------------------------------\n",
      "----------------------------------------------------------------------------------------------------\n",
      "----------------------------------------------------------------------------------------------------\n",
      "\n",
      "sPID-5_df\n"
     ]
    },
    {
     "data": {
      "application/vnd.jupyter.widget-view+json": {
       "model_id": "9c7bc2e5b15946c4a90a2761d00d319a",
       "version_major": 2,
       "version_minor": 0
      },
      "text/plain": [
       "  0%|          | 0/100 [00:00<?, ?it/s]"
      ]
     },
     "metadata": {},
     "output_type": "display_data"
    },
    {
     "name": "stdout",
     "output_type": "stream",
     "text": [
      "10/10 [==============================] - 0s 1ms/step\n",
      "Train size: 726\n",
      "Selected 10 features out of 25\n",
      "[14 20 11  1 22  4 23 16  6  2]\n",
      "                     Accuracy  FI 1  FI 2  FI 3  FI 4  FI 5\n",
      "Full Logit           0.961538   NaN   NaN   NaN   NaN   NaN\n",
      "Logistic Regression  0.967949  23.0  14.0   4.0  11.0  16.0\n",
      "SVC                  0.971154  23.0  14.0  16.0   4.0  11.0\n",
      "Random Forest        0.964744  23.0  20.0   4.0  16.0  11.0\n",
      "Neural Network       0.971154  23.0  20.0  16.0  14.0  11.0\n",
      "\n",
      "==> TOP5 STABILITY SCORE: 0.6\n",
      "----------------------------------------------------------------------------------------------------\n",
      "----------------------------------------------------------------------------------------------------\n",
      "----------------------------------------------------------------------------------------------------\n",
      "\n"
     ]
    }
   ],
   "source": [
    "mis_datasets = {}\n",
    "\n",
    "for dataset in [f for f in os.listdir(\".\\\\data\") if \"parquet\" in f]:\n",
    "    print(dataset.split(\".\")[0])\n",
    "    X_tr, X_ts, y_tr, y_ts = Classification().prepare_data(f\".\\\\data\\\\{dataset}\", \"CONDITION\")\n",
    "    \n",
    "    var_sel = Classification().mutual_info(X_tr, y_tr)\n",
    "    perfs, stability = Classification().benchmark_models(X_tr, X_ts, y_tr, y_ts, var_sel)\n",
    "    \n",
    "    mis_datasets[dataset.split(\".\")[0]] = [X_tr, X_ts, y_tr, y_ts, var_sel, perfs, stability]\n",
    "    print(var_sel)\n",
    "    print(perfs)\n",
    "    print()\n",
    "    print(\"==> TOP5 STABILITY SCORE: {}\".format(stability))\n",
    "    print(\"-\" * 100)\n",
    "    print(\"-\" * 100)\n",
    "    print(\"-\" * 100)\n",
    "    print()"
   ]
  },
  {
   "cell_type": "markdown",
   "id": "36b6baff",
   "metadata": {
    "id": "36b6baff"
   },
   "source": [
    "#### Summarize results\n",
    "\n",
    "Whit this approach we see that `32%` of features were kept on average so a slightly less conservative selection method, the accuracy dip was instead around `-0.013` and the std on accuracies on benchmark models was about `0.009`.\n",
    "Instead in this case despite the fact that the faking good datasets were the ones where features were cut the most (`0.22%` features kept vs `0.43%` of faking bad) they were still the ones that had the lowest dip in performance (`-0.011` vs `-0.014` of faking bad) and they were even the most stable in terms of std of accuracy on benchmarking models (`0.007` vs `0.011` faking bad). Examining instead the single accuracies on the 4 models that use only the selected features the analysis reports that the best-performing model is the multi-layer perceptron with an average accuracy of `0.849`, followed by the logistic regression and SVM (tied with `0.840`) and last the Random Forest with an average accuracy of `0.837`. This may suggest that with fewer features connectionist models might be the best way to model the data.\n",
    "Another surprising trend that we can observe looking at these 4 models is that in this case (if we look at the model by themselves without comparing them to the full logistic regression) the faking bad datasets have the best accuracy on average in all 4 cases (`0.878875`, `0.877625`, `0.87425`, `0.887875` vs `0.800625`, `0.801875`, `0.79875`, `0.810375` of faking good)."
   ]
  },
  {
   "cell_type": "code",
   "execution_count": null,
   "id": "502b6593",
   "metadata": {
    "ExecuteTime": {
     "end_time": "2023-01-05T14:57:26.880730Z",
     "start_time": "2023-01-05T14:57:26.311380Z"
    },
    "id": "502b6593",
    "outputId": "08d4b722-96a1-49c0-b197-62beb4aa71e3"
   },
   "outputs": [
    {
     "data": {
      "text/html": [
       "<div>\n",
       "<style scoped>\n",
       "    .dataframe tbody tr th:only-of-type {\n",
       "        vertical-align: middle;\n",
       "    }\n",
       "\n",
       "    .dataframe tbody tr th {\n",
       "        vertical-align: top;\n",
       "    }\n",
       "\n",
       "    .dataframe thead th {\n",
       "        text-align: right;\n",
       "    }\n",
       "</style>\n",
       "<table border=\"1\" class=\"dataframe\">\n",
       "  <thead>\n",
       "    <tr style=\"text-align: right;\">\n",
       "      <th></th>\n",
       "      <th>Dataset name</th>\n",
       "      <th>Sample size</th>\n",
       "      <th>Training size</th>\n",
       "      <th>Number of Features</th>\n",
       "      <th>Selected Features</th>\n",
       "      <th>Feat. Top5-Stability</th>\n",
       "      <th>Accuracy - Logit all features</th>\n",
       "      <th>Accuracy - Logit</th>\n",
       "      <th>Accuracy - SVM</th>\n",
       "      <th>Accuracy - RF</th>\n",
       "      <th>Accuracy - MLP</th>\n",
       "      <th>Avg Acc. on selected features</th>\n",
       "      <th>Accuracy Std on selected features</th>\n",
       "      <th>Acc. diff. wrt Full logit</th>\n",
       "    </tr>\n",
       "  </thead>\n",
       "  <tbody>\n",
       "    <tr>\n",
       "      <th>0</th>\n",
       "      <td>BF_df_CTU</td>\n",
       "      <td>442</td>\n",
       "      <td>309</td>\n",
       "      <td>10</td>\n",
       "      <td>3</td>\n",
       "      <td>0.778</td>\n",
       "      <td>0.774</td>\n",
       "      <td>0.820</td>\n",
       "      <td>0.820</td>\n",
       "      <td>0.805</td>\n",
       "      <td>0.842</td>\n",
       "      <td>0.821</td>\n",
       "      <td>0.016</td>\n",
       "      <td>0.047</td>\n",
       "    </tr>\n",
       "    <tr>\n",
       "      <th>1</th>\n",
       "      <td>BF_df_OU</td>\n",
       "      <td>460</td>\n",
       "      <td>322</td>\n",
       "      <td>10</td>\n",
       "      <td>2</td>\n",
       "      <td>1.000</td>\n",
       "      <td>0.833</td>\n",
       "      <td>0.746</td>\n",
       "      <td>0.754</td>\n",
       "      <td>0.768</td>\n",
       "      <td>0.761</td>\n",
       "      <td>0.757</td>\n",
       "      <td>0.009</td>\n",
       "      <td>-0.076</td>\n",
       "    </tr>\n",
       "    <tr>\n",
       "      <th>2</th>\n",
       "      <td>BF_df_V</td>\n",
       "      <td>486</td>\n",
       "      <td>340</td>\n",
       "      <td>10</td>\n",
       "      <td>3</td>\n",
       "      <td>0.556</td>\n",
       "      <td>0.760</td>\n",
       "      <td>0.760</td>\n",
       "      <td>0.760</td>\n",
       "      <td>0.760</td>\n",
       "      <td>0.760</td>\n",
       "      <td>0.760</td>\n",
       "      <td>0.000</td>\n",
       "      <td>0.000</td>\n",
       "    </tr>\n",
       "    <tr>\n",
       "      <th>3</th>\n",
       "      <td>DT_df_CC</td>\n",
       "      <td>482</td>\n",
       "      <td>337</td>\n",
       "      <td>27</td>\n",
       "      <td>2</td>\n",
       "      <td>0.667</td>\n",
       "      <td>0.683</td>\n",
       "      <td>0.690</td>\n",
       "      <td>0.690</td>\n",
       "      <td>0.690</td>\n",
       "      <td>0.690</td>\n",
       "      <td>0.690</td>\n",
       "      <td>0.000</td>\n",
       "      <td>0.007</td>\n",
       "    </tr>\n",
       "    <tr>\n",
       "      <th>4</th>\n",
       "      <td>DT_df_JI</td>\n",
       "      <td>864</td>\n",
       "      <td>604</td>\n",
       "      <td>27</td>\n",
       "      <td>2</td>\n",
       "      <td>1.000</td>\n",
       "      <td>0.662</td>\n",
       "      <td>0.642</td>\n",
       "      <td>0.642</td>\n",
       "      <td>0.623</td>\n",
       "      <td>0.642</td>\n",
       "      <td>0.638</td>\n",
       "      <td>0.010</td>\n",
       "      <td>-0.024</td>\n",
       "    </tr>\n",
       "    <tr>\n",
       "      <th>5</th>\n",
       "      <td>IADQ_df</td>\n",
       "      <td>450</td>\n",
       "      <td>315</td>\n",
       "      <td>9</td>\n",
       "      <td>6</td>\n",
       "      <td>0.333</td>\n",
       "      <td>0.852</td>\n",
       "      <td>0.844</td>\n",
       "      <td>0.844</td>\n",
       "      <td>0.830</td>\n",
       "      <td>0.830</td>\n",
       "      <td>0.837</td>\n",
       "      <td>0.009</td>\n",
       "      <td>-0.015</td>\n",
       "    </tr>\n",
       "    <tr>\n",
       "      <th>6</th>\n",
       "      <td>IESR_df</td>\n",
       "      <td>358</td>\n",
       "      <td>250</td>\n",
       "      <td>22</td>\n",
       "      <td>11</td>\n",
       "      <td>0.533</td>\n",
       "      <td>0.935</td>\n",
       "      <td>0.907</td>\n",
       "      <td>0.889</td>\n",
       "      <td>0.898</td>\n",
       "      <td>0.926</td>\n",
       "      <td>0.905</td>\n",
       "      <td>0.016</td>\n",
       "      <td>-0.030</td>\n",
       "    </tr>\n",
       "    <tr>\n",
       "      <th>7</th>\n",
       "      <td>NAQ_R_df</td>\n",
       "      <td>712</td>\n",
       "      <td>498</td>\n",
       "      <td>22</td>\n",
       "      <td>21</td>\n",
       "      <td>0.267</td>\n",
       "      <td>0.953</td>\n",
       "      <td>0.972</td>\n",
       "      <td>0.963</td>\n",
       "      <td>0.963</td>\n",
       "      <td>0.963</td>\n",
       "      <td>0.965</td>\n",
       "      <td>0.005</td>\n",
       "      <td>0.012</td>\n",
       "    </tr>\n",
       "    <tr>\n",
       "      <th>8</th>\n",
       "      <td>PCL5_df</td>\n",
       "      <td>402</td>\n",
       "      <td>281</td>\n",
       "      <td>20</td>\n",
       "      <td>5</td>\n",
       "      <td>0.600</td>\n",
       "      <td>0.810</td>\n",
       "      <td>0.769</td>\n",
       "      <td>0.777</td>\n",
       "      <td>0.760</td>\n",
       "      <td>0.835</td>\n",
       "      <td>0.785</td>\n",
       "      <td>0.034</td>\n",
       "      <td>-0.025</td>\n",
       "    </tr>\n",
       "    <tr>\n",
       "      <th>9</th>\n",
       "      <td>PHQ9_GAD7_df</td>\n",
       "      <td>1118</td>\n",
       "      <td>782</td>\n",
       "      <td>16</td>\n",
       "      <td>7</td>\n",
       "      <td>0.400</td>\n",
       "      <td>0.991</td>\n",
       "      <td>0.982</td>\n",
       "      <td>0.982</td>\n",
       "      <td>0.973</td>\n",
       "      <td>0.982</td>\n",
       "      <td>0.980</td>\n",
       "      <td>0.004</td>\n",
       "      <td>-0.011</td>\n",
       "    </tr>\n",
       "    <tr>\n",
       "      <th>10</th>\n",
       "      <td>PID5_df</td>\n",
       "      <td>824</td>\n",
       "      <td>576</td>\n",
       "      <td>220</td>\n",
       "      <td>13</td>\n",
       "      <td>0.533</td>\n",
       "      <td>0.960</td>\n",
       "      <td>0.956</td>\n",
       "      <td>0.956</td>\n",
       "      <td>0.948</td>\n",
       "      <td>0.948</td>\n",
       "      <td>0.952</td>\n",
       "      <td>0.005</td>\n",
       "      <td>-0.008</td>\n",
       "    </tr>\n",
       "    <tr>\n",
       "      <th>11</th>\n",
       "      <td>PRFQ_df</td>\n",
       "      <td>678</td>\n",
       "      <td>474</td>\n",
       "      <td>18</td>\n",
       "      <td>4</td>\n",
       "      <td>0.583</td>\n",
       "      <td>0.936</td>\n",
       "      <td>0.877</td>\n",
       "      <td>0.877</td>\n",
       "      <td>0.873</td>\n",
       "      <td>0.912</td>\n",
       "      <td>0.885</td>\n",
       "      <td>0.018</td>\n",
       "      <td>-0.051</td>\n",
       "    </tr>\n",
       "    <tr>\n",
       "      <th>12</th>\n",
       "      <td>PRMQ_df</td>\n",
       "      <td>1404</td>\n",
       "      <td>982</td>\n",
       "      <td>16</td>\n",
       "      <td>5</td>\n",
       "      <td>0.733</td>\n",
       "      <td>0.908</td>\n",
       "      <td>0.865</td>\n",
       "      <td>0.863</td>\n",
       "      <td>0.865</td>\n",
       "      <td>0.879</td>\n",
       "      <td>0.868</td>\n",
       "      <td>0.008</td>\n",
       "      <td>-0.040</td>\n",
       "    </tr>\n",
       "    <tr>\n",
       "      <th>13</th>\n",
       "      <td>RAW_DDDT</td>\n",
       "      <td>986</td>\n",
       "      <td>690</td>\n",
       "      <td>12</td>\n",
       "      <td>3</td>\n",
       "      <td>0.556</td>\n",
       "      <td>0.747</td>\n",
       "      <td>0.736</td>\n",
       "      <td>0.747</td>\n",
       "      <td>0.757</td>\n",
       "      <td>0.740</td>\n",
       "      <td>0.745</td>\n",
       "      <td>0.009</td>\n",
       "      <td>-0.002</td>\n",
       "    </tr>\n",
       "    <tr>\n",
       "      <th>14</th>\n",
       "      <td>R_NEO_PI</td>\n",
       "      <td>77687</td>\n",
       "      <td>54380</td>\n",
       "      <td>30</td>\n",
       "      <td>6</td>\n",
       "      <td>0.467</td>\n",
       "      <td>0.907</td>\n",
       "      <td>0.902</td>\n",
       "      <td>0.901</td>\n",
       "      <td>0.906</td>\n",
       "      <td>0.905</td>\n",
       "      <td>0.904</td>\n",
       "      <td>0.002</td>\n",
       "      <td>-0.003</td>\n",
       "    </tr>\n",
       "    <tr>\n",
       "      <th>15</th>\n",
       "      <td>sPID-5_df</td>\n",
       "      <td>1038</td>\n",
       "      <td>726</td>\n",
       "      <td>25</td>\n",
       "      <td>10</td>\n",
       "      <td>0.600</td>\n",
       "      <td>0.962</td>\n",
       "      <td>0.968</td>\n",
       "      <td>0.971</td>\n",
       "      <td>0.965</td>\n",
       "      <td>0.971</td>\n",
       "      <td>0.969</td>\n",
       "      <td>0.003</td>\n",
       "      <td>0.007</td>\n",
       "    </tr>\n",
       "  </tbody>\n",
       "</table>\n",
       "</div>"
      ],
      "text/plain": [
       "    Dataset name  Sample size  Training size  Number of Features  \\\n",
       "0      BF_df_CTU          442            309                  10   \n",
       "1       BF_df_OU          460            322                  10   \n",
       "2        BF_df_V          486            340                  10   \n",
       "3       DT_df_CC          482            337                  27   \n",
       "4       DT_df_JI          864            604                  27   \n",
       "5        IADQ_df          450            315                   9   \n",
       "6        IESR_df          358            250                  22   \n",
       "7       NAQ_R_df          712            498                  22   \n",
       "8        PCL5_df          402            281                  20   \n",
       "9   PHQ9_GAD7_df         1118            782                  16   \n",
       "10       PID5_df          824            576                 220   \n",
       "11       PRFQ_df          678            474                  18   \n",
       "12       PRMQ_df         1404            982                  16   \n",
       "13      RAW_DDDT          986            690                  12   \n",
       "14      R_NEO_PI        77687          54380                  30   \n",
       "15     sPID-5_df         1038            726                  25   \n",
       "\n",
       "    Selected Features  Feat. Top5-Stability  Accuracy - Logit all features  \\\n",
       "0                   3                 0.778                          0.774   \n",
       "1                   2                 1.000                          0.833   \n",
       "2                   3                 0.556                          0.760   \n",
       "3                   2                 0.667                          0.683   \n",
       "4                   2                 1.000                          0.662   \n",
       "5                   6                 0.333                          0.852   \n",
       "6                  11                 0.533                          0.935   \n",
       "7                  21                 0.267                          0.953   \n",
       "8                   5                 0.600                          0.810   \n",
       "9                   7                 0.400                          0.991   \n",
       "10                 13                 0.533                          0.960   \n",
       "11                  4                 0.583                          0.936   \n",
       "12                  5                 0.733                          0.908   \n",
       "13                  3                 0.556                          0.747   \n",
       "14                  6                 0.467                          0.907   \n",
       "15                 10                 0.600                          0.962   \n",
       "\n",
       "    Accuracy - Logit  Accuracy - SVM  Accuracy - RF  Accuracy - MLP  \\\n",
       "0              0.820           0.820          0.805           0.842   \n",
       "1              0.746           0.754          0.768           0.761   \n",
       "2              0.760           0.760          0.760           0.760   \n",
       "3              0.690           0.690          0.690           0.690   \n",
       "4              0.642           0.642          0.623           0.642   \n",
       "5              0.844           0.844          0.830           0.830   \n",
       "6              0.907           0.889          0.898           0.926   \n",
       "7              0.972           0.963          0.963           0.963   \n",
       "8              0.769           0.777          0.760           0.835   \n",
       "9              0.982           0.982          0.973           0.982   \n",
       "10             0.956           0.956          0.948           0.948   \n",
       "11             0.877           0.877          0.873           0.912   \n",
       "12             0.865           0.863          0.865           0.879   \n",
       "13             0.736           0.747          0.757           0.740   \n",
       "14             0.902           0.901          0.906           0.905   \n",
       "15             0.968           0.971          0.965           0.971   \n",
       "\n",
       "    Avg Acc. on selected features  Accuracy Std on selected features  \\\n",
       "0                           0.821                              0.016   \n",
       "1                           0.757                              0.009   \n",
       "2                           0.760                              0.000   \n",
       "3                           0.690                              0.000   \n",
       "4                           0.638                              0.010   \n",
       "5                           0.837                              0.009   \n",
       "6                           0.905                              0.016   \n",
       "7                           0.965                              0.005   \n",
       "8                           0.785                              0.034   \n",
       "9                           0.980                              0.004   \n",
       "10                          0.952                              0.005   \n",
       "11                          0.885                              0.018   \n",
       "12                          0.868                              0.008   \n",
       "13                          0.745                              0.009   \n",
       "14                          0.904                              0.002   \n",
       "15                          0.969                              0.003   \n",
       "\n",
       "    Acc. diff. wrt Full logit  \n",
       "0                       0.047  \n",
       "1                      -0.076  \n",
       "2                       0.000  \n",
       "3                       0.007  \n",
       "4                      -0.024  \n",
       "5                      -0.015  \n",
       "6                      -0.030  \n",
       "7                       0.012  \n",
       "8                      -0.025  \n",
       "9                      -0.011  \n",
       "10                     -0.008  \n",
       "11                     -0.051  \n",
       "12                     -0.040  \n",
       "13                     -0.002  \n",
       "14                     -0.003  \n",
       "15                      0.007  "
      ]
     },
     "execution_count": 13,
     "metadata": {},
     "output_type": "execute_result"
    }
   ],
   "source": [
    "mis_summary = evaluation.summary_table(mis_datasets, stability = True, neural_net = True)\n",
    "mis_summary"
   ]
  },
  {
   "cell_type": "markdown",
   "id": "315f1b15",
   "metadata": {},
   "source": [
    "The fact that this method keeps the accuracy on all datasets pretty high can be seen better in this plot of the average accuracy of the 4 models on selected features. We go from a minimum of around `0.63` in the worst-case scenario to `0.98` in the best. With an average accuracy of `0.84` and a standard deviation that never exceeds `0.034`."
   ]
  },
  {
   "cell_type": "code",
   "execution_count": null,
   "id": "3f6fccdc",
   "metadata": {
    "ExecuteTime": {
     "end_time": "2023-01-05T14:57:28.182182Z",
     "start_time": "2023-01-05T14:57:26.882606Z"
    },
    "id": "3f6fccdc",
    "outputId": "4c477556-506e-430a-c3ea-df911097ef4f"
   },
   "outputs": [
    {
     "data": {
      "image/png": "[encoded data removed]",
      "text/plain": [
       "<Figure size 1296x504 with 1 Axes>"
      ]
     },
     "metadata": {
      "needs_background": "light"
     },
     "output_type": "display_data"
    }
   ],
   "source": [
    "summary_graphs.accuracy_barplot(mis_summary, save = True, prefix = \"MIS\")"
   ]
  },
  {
   "cell_type": "markdown",
   "id": "8e117c5f",
   "metadata": {},
   "source": [
    "Standard deviations by themselves are highlighted again by this plot. With the maximum of 0.034 being the only value surpassing the 0.02 mark."
   ]
  },
  {
   "cell_type": "code",
   "execution_count": null,
   "id": "f3dc6519",
   "metadata": {
    "ExecuteTime": {
     "end_time": "2023-01-05T14:57:29.886468Z",
     "start_time": "2023-01-05T14:57:28.187616Z"
    },
    "id": "f3dc6519",
    "outputId": "2dd0c020-8014-4597-f266-e2905f25c6ec"
   },
   "outputs": [
    {
     "data": {
      "image/png": "[encoded data removed]",
      "text/plain": [
       "<Figure size 1296x432 with 1 Axes>"
      ]
     },
     "metadata": {
      "needs_background": "light"
     },
     "output_type": "display_data"
    }
   ],
   "source": [
    "summary_graphs.accuracy_std(mis_summary, save = True, prefix = \"MIS\")"
   ]
  },
  {
   "cell_type": "markdown",
   "id": "5f24cd77",
   "metadata": {},
   "source": [
    "As previously said, in this plot we can appreciate the difference between faking good and bad datasets. With the latter outperforming on average the former in accuracy terms. Also to be noted, the difference between a full and reduced model in many cases is minimal if not zero.  "
   ]
  },
  {
   "cell_type": "code",
   "execution_count": null,
   "id": "41ef01d8",
   "metadata": {
    "ExecuteTime": {
     "end_time": "2023-01-05T14:57:32.549980Z",
     "start_time": "2023-01-05T14:57:29.888468Z"
    },
    "id": "41ef01d8",
    "outputId": "108a4040-b4af-4553-c67a-d5c71c795aa4"
   },
   "outputs": [
    {
     "data": {
      "image/png": "[encoded data removed]",
      "text/plain": [
       "<Figure size 1296x720 with 2 Axes>"
      ]
     },
     "metadata": {
      "needs_background": "light"
     },
     "output_type": "display_data"
    }
   ],
   "source": [
    "summary_graphs.faking_type_comparison(mis_summary, prefix = \"MIS\", save = True)"
   ]
  },
  {
   "cell_type": "markdown",
   "id": "c23eb6df",
   "metadata": {
    "id": "c23eb6df"
   },
   "source": [
    "## *Comparison between approaches*\n",
    "From the plot on the first panel, that of the average accuracy, it is clear how the variable selection performed by the PCA-based approach is almost always equal or lower compared with the other two approaches proposed.  \n",
    "This behavior is obviously reflected also in the second panel of the plot, where the aggregate (i.e. average of the models used as a benchmark) is shown. Also, from this latter graph, we can see how in some cases, reducing the dimensionality of the problem actually brings an increase in the accuracy - this is likely due to collinearity between different items in the questionnaire. Moreover, save for some extreme cases in which the aggregate accuracy with the subset of features decreases by almost 8 percentage points, the drop in the accuracy with respect to a model fitted on all the variables is fairly low (-2% on average across all approaches at trial), which may suggest that in terms of lie detection most of the items of the questionnaires at hand are of little or no use, given that, on overall average, the number of selected features is roughly 26%.  \n",
    "In the third panel, we see that in general models tend to be fairly stable in terms of accuracy and that the PCA-based approach is the one that provides a subset of variables that is less consistent in terms of resulting accuracy across different models, while on the other hand, Permutation Importance and Mutual Information show similar behavior.\n",
    "Finally, from the last panel, the results on the tailor-made metric of stability to address the problem of how the importance of each of the selected features changes based on the model used for benchmarking, are shown. It is evident that the PCA-based approach is outperforming both the other methods, which may suggest that the inherent nature of the principal components yields a latent \"structure\" (set of variable) that preserve the importance of the data itself, even if those variables are not \"informative\" per se, thus causing high variability across benchmarking models' accuracies."
   ]
  },
  {
   "cell_type": "code",
   "execution_count": null,
   "id": "21de7e0b",
   "metadata": {
    "ExecuteTime": {
     "end_time": "2023-01-03T13:57:22.289149Z",
     "start_time": "2023-01-03T13:57:18.397403Z"
    },
    "id": "21de7e0b",
    "outputId": "ff271402-d059-4e0c-be62-0615496291b7"
   },
   "outputs": [
    {
     "data": {
      "image/png": "[encoded data removed]",
      "text/plain": [
       "<Figure size 1008x1296 with 4 Axes>"
      ]
     },
     "metadata": {
      "needs_background": "light"
     },
     "output_type": "display_data"
    }
   ],
   "source": [
    "summary_graphs.approaches_comparison(pca_summary, pimp_summary, mis_summary, save = True)"
   ]
  },
  {
   "cell_type": "code",
   "execution_count": null,
   "id": "57ba7c05",
   "metadata": {
    "ExecuteTime": {
     "end_time": "2023-01-06T00:36:17.378459Z",
     "start_time": "2023-01-06T00:36:16.967064Z"
    },
    "id": "57ba7c05",
    "outputId": "56ad2ddd-6886-4a99-e0c9-940c0d3c5de6"
   },
   "outputs": [
    {
     "name": "stdout",
     "output_type": "stream",
     "text": [
      "Acc. diff. wrt Full logit\n"
     ]
    },
    {
     "data": {
      "text/html": [
       "<div>\n",
       "<style scoped>\n",
       "    .dataframe tbody tr th:only-of-type {\n",
       "        vertical-align: middle;\n",
       "    }\n",
       "\n",
       "    .dataframe tbody tr th {\n",
       "        vertical-align: top;\n",
       "    }\n",
       "\n",
       "    .dataframe thead th {\n",
       "        text-align: right;\n",
       "    }\n",
       "</style>\n",
       "<table border=\"1\" class=\"dataframe\">\n",
       "  <thead>\n",
       "    <tr style=\"text-align: right;\">\n",
       "      <th></th>\n",
       "      <th>PCA</th>\n",
       "      <th>PERM. IMP.</th>\n",
       "      <th>JMIM</th>\n",
       "    </tr>\n",
       "  </thead>\n",
       "  <tbody>\n",
       "    <tr>\n",
       "      <th>mean</th>\n",
       "      <td>-0.0344</td>\n",
       "      <td>-0.0183</td>\n",
       "      <td>-0.0132</td>\n",
       "    </tr>\n",
       "    <tr>\n",
       "      <th>min</th>\n",
       "      <td>-0.0890</td>\n",
       "      <td>-0.0750</td>\n",
       "      <td>-0.0760</td>\n",
       "    </tr>\n",
       "    <tr>\n",
       "      <th>max</th>\n",
       "      <td>0.0270</td>\n",
       "      <td>0.0260</td>\n",
       "      <td>0.0470</td>\n",
       "    </tr>\n",
       "  </tbody>\n",
       "</table>\n",
       "</div>"
      ],
      "text/plain": [
       "         PCA  PERM. IMP.    JMIM\n",
       "mean -0.0344     -0.0183 -0.0132\n",
       "min  -0.0890     -0.0750 -0.0760\n",
       "max   0.0270      0.0260  0.0470"
      ]
     },
     "execution_count": 56,
     "metadata": {},
     "output_type": "execute_result"
    }
   ],
   "source": [
    "summary_graphs.final_table(\"Acc. diff. wrt Full logit\", pca_summary, pimp_summary, mis_summary)"
   ]
  },
  {
   "cell_type": "code",
   "execution_count": null,
   "id": "b9fa4856",
   "metadata": {
    "ExecuteTime": {
     "end_time": "2023-01-06T00:36:48.602763Z",
     "start_time": "2023-01-06T00:36:48.243045Z"
    },
    "id": "b9fa4856",
    "outputId": "f6d1a53b-c713-4587-b27c-fc91ba7caaa6"
   },
   "outputs": [
    {
     "name": "stdout",
     "output_type": "stream",
     "text": [
      "Accuracy Std on selected features\n"
     ]
    },
    {
     "data": {
      "text/html": [
       "<div>\n",
       "<style scoped>\n",
       "    .dataframe tbody tr th:only-of-type {\n",
       "        vertical-align: middle;\n",
       "    }\n",
       "\n",
       "    .dataframe tbody tr th {\n",
       "        vertical-align: top;\n",
       "    }\n",
       "\n",
       "    .dataframe thead th {\n",
       "        text-align: right;\n",
       "    }\n",
       "</style>\n",
       "<table border=\"1\" class=\"dataframe\">\n",
       "  <thead>\n",
       "    <tr style=\"text-align: right;\">\n",
       "      <th></th>\n",
       "      <th>PCA</th>\n",
       "      <th>PERM. IMP.</th>\n",
       "      <th>JMIM</th>\n",
       "    </tr>\n",
       "  </thead>\n",
       "  <tbody>\n",
       "    <tr>\n",
       "      <th>mean</th>\n",
       "      <td>0.0155</td>\n",
       "      <td>0.0078</td>\n",
       "      <td>0.0093</td>\n",
       "    </tr>\n",
       "    <tr>\n",
       "      <th>min</th>\n",
       "      <td>0.0000</td>\n",
       "      <td>0.0000</td>\n",
       "      <td>0.0000</td>\n",
       "    </tr>\n",
       "    <tr>\n",
       "      <th>max</th>\n",
       "      <td>0.0580</td>\n",
       "      <td>0.0360</td>\n",
       "      <td>0.0340</td>\n",
       "    </tr>\n",
       "  </tbody>\n",
       "</table>\n",
       "</div>"
      ],
      "text/plain": [
       "         PCA  PERM. IMP.    JMIM\n",
       "mean  0.0155      0.0078  0.0093\n",
       "min   0.0000      0.0000  0.0000\n",
       "max   0.0580      0.0360  0.0340"
      ]
     },
     "execution_count": 58,
     "metadata": {},
     "output_type": "execute_result"
    }
   ],
   "source": [
    "summary_graphs.final_table(\"Accuracy Std on selected features\", pca_summary, pimp_summary, mis_summary)"
   ]
  },
  {
   "cell_type": "code",
   "execution_count": null,
   "id": "253be9c2",
   "metadata": {
    "ExecuteTime": {
     "end_time": "2023-01-06T00:37:10.069309Z",
     "start_time": "2023-01-06T00:37:09.730617Z"
    },
    "id": "253be9c2",
    "outputId": "8f813db6-46cb-4daf-fede-e54b7e85e991"
   },
   "outputs": [
    {
     "name": "stdout",
     "output_type": "stream",
     "text": [
      "Feat. Top5-Stability\n"
     ]
    },
    {
     "data": {
      "text/html": [
       "<div>\n",
       "<style scoped>\n",
       "    .dataframe tbody tr th:only-of-type {\n",
       "        vertical-align: middle;\n",
       "    }\n",
       "\n",
       "    .dataframe tbody tr th {\n",
       "        vertical-align: top;\n",
       "    }\n",
       "\n",
       "    .dataframe thead th {\n",
       "        text-align: right;\n",
       "    }\n",
       "</style>\n",
       "<table border=\"1\" class=\"dataframe\">\n",
       "  <thead>\n",
       "    <tr style=\"text-align: right;\">\n",
       "      <th></th>\n",
       "      <th>PCA</th>\n",
       "      <th>PERM. IMP.</th>\n",
       "      <th>JMIM</th>\n",
       "    </tr>\n",
       "  </thead>\n",
       "  <tbody>\n",
       "    <tr>\n",
       "      <th>mean</th>\n",
       "      <td>0.7962</td>\n",
       "      <td>0.6965</td>\n",
       "      <td>0.6004</td>\n",
       "    </tr>\n",
       "    <tr>\n",
       "      <th>min</th>\n",
       "      <td>0.4000</td>\n",
       "      <td>0.2670</td>\n",
       "      <td>0.2670</td>\n",
       "    </tr>\n",
       "    <tr>\n",
       "      <th>max</th>\n",
       "      <td>1.0000</td>\n",
       "      <td>1.0000</td>\n",
       "      <td>1.0000</td>\n",
       "    </tr>\n",
       "  </tbody>\n",
       "</table>\n",
       "</div>"
      ],
      "text/plain": [
       "         PCA  PERM. IMP.    JMIM\n",
       "mean  0.7962      0.6965  0.6004\n",
       "min   0.4000      0.2670  0.2670\n",
       "max   1.0000      1.0000  1.0000"
      ]
     },
     "execution_count": 59,
     "metadata": {},
     "output_type": "execute_result"
    }
   ],
   "source": [
    "summary_graphs.final_table(\"Feat. Top5-Stability\", pca_summary, pimp_summary, mis_summary)"
   ]
  },
  {
   "cell_type": "markdown",
   "id": "3224b3b8",
   "metadata": {
    "id": "3224b3b8"
   },
   "source": [
    "## *Conclusions*\n",
    "\n",
    "### Perfomance assessment\n",
    "During the study, we have taken into consideration three model-agnostic methods and evaluated them via four benchmarking models, based on three main metrics. This is because each of the metrics is supposed to assess a different aspect of the solution to the problem at hand: in fact, a variable selection procedure can be evaluated in terms of how much it reduces the accuracy of prediction (*Acc. diff. wrt Full logit*), but we also take into account the model-agnostic part, i.e. how stable is a selection procedure when its output (a subset of features) is used to train models that are completely different from each other (*Accuracy Std on selected features*) and how the importance of the feature in this subset change importance accordingly (*Top-5 stability*).<br>\n",
    "\n",
    "What is interesting is that, if we consider the average performance over the sixteen datasets within the scope of the project, the Mutual information-based approach slightly outperforms the other methods, which thus results in the most suitable approach if the ultimate goal is to select features in order to save computational time without losing accuracy of prediction, i.e. *Acc. diff. wrt Full logit* - this is true also because the strength of selection is slightly lower than Permutation Importance.  \n",
    "Instead, when the goal of the feature selection is to have a common baseline subset of features to preserve accuracy across different classification algorithms, Permutation Importance-based approach is the one that seems more suitable - i.e. it minimizes the *Accuracy Std on selected features*.  \n",
    "Finally, the PCA-based approach outperforms all the other approaches found when it comes to the importance ranking of the selected features across all the models (*Top-5 stability*) - this is inherently coming from the definition of principal components, and this study provides additional proof.\n",
    "\n",
    "### Interpretation of results\n",
    "The datasets used in this project are psychological questionnaires submitted to different individuals, which compiled them twice, one time lying and the other answering truthfully. Each dataset entails a specific questionnaire used in a specific context, but, in order to address whether some similarities in how the methods presented selected the features, we divided some of them into groups based on the context for which they were applied:\n",
    "* Group 1 (job interviews): BF_CTU, BF_OU, DT_JI\n",
    "* Group 2 (identification of diseases/syndroms): PCL5, IESR, IADQ, PHQ9_GAD7\n",
    "* Group 3 (identification of different mental disorders): PID, sPID\n",
    "* Group 4 (child custody): DT_CC, BF_V\n",
    "* Group 5 (personality traits): R_NEO_PI, RAW_DDDT\n",
    "* Treated singularly: NAQR, PRMQ, PRFQ\n",
    "\n",
    "First, we qualitatively assessed if there are and which are the variables that have been chosen by all the three procedures used (PCA, PIMP, JMIM). Then we focus on the variables selected by the PCA, as it is the best-performing model in terms of the stability in the importance of the features within the models used for benchmarking.\n",
    "\n",
    "#### Varibles commonly selected by the different approaches (see Appendix for reference)\n",
    "\n",
    "**Group 1**: they are all datasets of faking good, thus (apart from reversed items) we expect to have DISHONESTS responding with higher values. What is interesting is how crucial for lie detection the items related to stress management (both for BF_CTU and BF_OU - items 6 & 7) are, regardless of the context for which the text is taken. The trait addressed by DT_JI are not within the scope of the BF datasets, but we see how also “repressing” opportunism (like item 1 and item 2) and risk-aversion (item 15) are as well good predictors for liars.  \n",
    "\n",
    "**Group 2**: The datasets in this group are faking bad and their goal is to identify possible victims of mental disorders derived from some experience. In choosing the variables for these tests, we can see some similarities in the questions that have been selected. In particular, \"IADQ\" and \"IESR\" questions often refer to the memory of the traumatic event and if the mind often thinks about it. Interestingly, some questions of \"IESR\" (item 18), \"PCL5\" (item 5), and \"PHQ9_GAD7\" (item 8) are very similar and related to possible physical reactions and movement behaviors; another pattern is the selction of questions that explicitly mention negative feellings (PCL5 item 11 and PHQ9_GAD7 item 2).  \n",
    "\n",
    "**Group 3**: The datasets \"PID5\" and \"sPID5\" are faking bad datasets, where faking is associated with pretending to have a mental disorder. The aim of these questionnaires is to identify more than one mental disorder, thus each question is associated with a particular disorder. Keep in mind that sPID5 is a short version of the PID5 questionnaire, thus questions are very similar. In choosing the variables for these tests, we can see similarities in the questions that have been selected. In fact, there are four main characteristics that are present in the selected features, both for sPID5 and PID5: concern, emotionality, feeling abnormal, and difficulty in distinguishing between reality and dream. Another interesting thing regards the association between selected features and the corresponding mental disorder: for both datasets, it can be seen that for almost all the mental disorders at least one feature has been selected.  \n",
    "\n",
    "**Group 4**: these two datasets are associated with faking good in the context of obtaining child custody. The variables selected from the two datasets do not have a lot in common. However, we can infer some observations. Regarding the DT_CC datasets, it seems like features that represent manipulation (items 1 and 4) and features that represent the feeling of being special (item 21) are favored. Instead, for the BF_V dataset, features quite different are chosen, the only one that is common between two approaches is regarding nervousness (item 7).  \n",
    "\n",
    "**Group 5**: When assessing the personality trait, the variables selected that seem common in lie detection are related to exaggerating kindness (item 5), self-discipline (item 13), emotional stability (item 21), and imagination (item 29). From the DDDT test instead, the lie detection pivots upon \"hiding\" insensitivity (item 7) and narcissism (item 10). Finally, the most important features are the ones regarding the inner self and solitude in the R_NEO_PI dataset.  \n",
    "\n",
    "**Treated singularly**\n",
    "- NAQ_R: In the workplace, for all of these items, obviously the pattern is the same, that is faking to be subjected to a given type of behavior from the coworkers. In particular, \"pretending\" to be exposed to intimidating behaviors (item 9) seems to be the most explanatory sign of lying. PCA selected also items 8, 12, 14, 19, while item 9 was picked by all approaches.\n",
    "- PRFQ: The features that seem to influence the most the mentalization with children are the ones related to thinking about the child’s behavior (items 2, 8) and the ones regarding knowing the child very well (items 7, 13).\n",
    "- PRMQ: When evaluating memory traits in a faking bad scenario the things that are the most evidently lied about are the most obvious ones that clearly indicate bad memory symptoms.\n",
    "\n",
    "#### Variables selected by PCA\n",
    "The five most important features (according to Top5-staility) are listed below.\n",
    "<ul>\n",
    "    <li>BF_CTU\n",
    "        <ul>\n",
    "            <li>[ES1G] Is relaxed, handles stress well (emotional stability).\n",
    "                [O1G] Has few artistic interests (openness, reversed).</li>\n",
    "        </ul>\n",
    "    </li>\n",
    "    <li>BF_OU\n",
    "        <ul>\n",
    "            <li>[EX2G] Is outgoing, sociable (extroversion).\n",
    "                [ES1G] Is relaxed, handles stress well (emotional stability).</li>\n",
    "        </ul>\n",
    "    </li>\n",
    "    <li>BF_V\n",
    "        <ul>\n",
    "            <li>[EX2G] Is outgoing, sociable (extroversion).\n",
    "                [ES2G] Gets nervous easily (emotional stability, reversed).</li>\n",
    "        </ul>\n",
    "    </li>\n",
    "    <li>DT_CC\n",
    "        <ul>\n",
    "            <li>[Mach2] I like to use clever manipulation to get my way. \n",
    "                [Mach5] It's wise to keep track of information that you can use against people later. \n",
    "                [Psycho2] I avoid dangerous situations. \n",
    "                [Narc2] I hate being the center of attention. \n",
    "                [Narc4] I know that I am special because everyone keeps telling me so. \n",
    "                [Narc6] I feel embarrassed if someone compliments me. </li>\n",
    "        </ul>\n",
    "    </li>\n",
    "    <li>DT_JI\n",
    "        <ul>\n",
    "            <li>[Mach1] It’s not wise to tell your secrets. \n",
    "                [Mach2] I like to use clever manipulation to get my way. \n",
    "                [Mach3] Whatever it takes, you must get the important people on your side. \n",
    "                [Psycho4] People often say I’m out of control. \n",
    "                [Psycho7] I have never gotten into trouble with the law. \n",
    "                [Narc2] I hate being the center of attention.</li>\n",
    "        </ul>\n",
    "    </li>\n",
    "    <li>IADQ\n",
    "        <ul>\n",
    "            <li>[1] I cannot stop thinking about the stressful event(s) (preoccupation).\n",
    "                [7] Affected your relationships or social life? (evidence of functional impairment).</li>\n",
    "        </ul>\n",
    "    </li>\n",
    "    <li>IESR\n",
    "        <ul>\n",
    "            <li>\n",
    "                [IESR5] I avoided letting myself get upset when I thought about it or was reminded of it. \n",
    "                [IESR9] Pictures about it popped into my mind. \n",
    "                [IESR14] I found myself acting or feeling like I was back at that time. \n",
    "                [IESR16] I had waves of strong feelings about it. \n",
    "                [IESR19] Reminders of it caused me to have physical reactions, such as sweating, trouble breathing, nausea, or a pounding heart.</li>\n",
    "        </ul>\n",
    "    </li>\n",
    "    <li>NAQ_R\n",
    "        <ul>\n",
    "            <li>[PI_9] Being shouted at or being target of spontaneous anger. \n",
    "                [WR_10] Intimidating behaviors such as finger-pointing, invasion of personal space, shoving, blocking your way. \n",
    "                [WR_13] Being ignored or facing a hostile reactionwhen you approach. \n",
    "                [PI_15] Having your opinion ingored. \n",
    "                [PR_20] Pressure not to claim something to which by right you are entitled (e.g. sick leave, holiday).</li>\n",
    "        </ul>\n",
    "    </li>\n",
    "    <li>PCL5\n",
    "        <ul>\n",
    "            <li>[item 2] Repeated, disturbing dreams of the stressful experience? \n",
    "                [item 5] Having strong physical reactions when something reminded you of the stressful experience (for example, heart pounding, trouble breathing, sweating)? \n",
    "                [item 11] Having strong negative feelings such as fear, horror, anger, guilt, or shame? \n",
    "                [item 13] Feeling distant or cut off from other people?\n",
    "            </li>\n",
    "        </ul>\n",
    "    </li>\n",
    "    <li>PHQ9_GAD7\n",
    "        <ul>\n",
    "            <li>[PHQ2] Feeling down, depressed, or hopeless. \n",
    "                [PHQ8] Moving or speaking so slowly that other people could have noticed? Or the opposite - being so fidgety or restless that you have been moving around a lot more than usual. \n",
    "                [GAD5] Being so restless that it is hard to sit still.</li>\n",
    "        </ul>\n",
    "    </li>\n",
    "    <li>PID5\n",
    "        <ul>\n",
    "            <li>[item 2] A lot of people are mad at me. \n",
    "                [item 5] I often have ideas that are too unusual to explain to anyone. \n",
    "                [item 36] I may have difficulty in pointing out the difference between dreams and real life. \n",
    "                [item 166] If I hurt other people's feelings, it is nothing exceptional. \n",
    "                [item 172] I have been told more than once that I have several strange quirks or habits.</li>\n",
    "        </ul>\n",
    "    </li>\n",
    "    <li>PRFQ\n",
    "        <ul>\n",
    "            <li>[PreM4] My child cries around strangers to embarrass me. \n",
    "                [C2] Try to understand reasons why my child misbehaves. \n",
    "                [IC2] I can always predict what my child will do. \n",
    "                [IC3] I always know why i do what i do to my child.</li>\n",
    "        </ul>\n",
    "    </li>\n",
    "    <li>PRMQ\n",
    "        <ul>\n",
    "            <li>[P1] Do you decide to do something in a few minutes time and then forget to do it. \n",
    "                [N2] do you fail to recognize a place you have visited before. \n",
    "                [N8] do you fail to recall things that have happened to you in the last few days?</li>\n",
    "        </ul>\n",
    "    </li>\n",
    "    <li>RAW_DDDT\n",
    "        <ul>\n",
    "            <li>[P1] I tend to manipulate others to get my way.\n",
    "                [M6] I tend to be unconcerned with the morality of my actions.\n",
    "                [M9] I tend to want others to admire me.</li>\n",
    "        </ul>\n",
    "    </li>\n",
    "    <li>R_NEO_PI\n",
    "        <ul>\n",
    "            <li>[PI_9] Being shouted at or being target of spontaneous anger.\n",
    "                [WR_10] Intimidating behaviors such as finger-pointing, invasion of personal space, shoving, blocking your way.\n",
    "                [WR_13] Being ignored or facing a hostile reactionwhen you approach.\n",
    "                [PI_15] Having your opinion ingored.\n",
    "                [PR_20] Pressure not to claim something to which by right you are entitled (e.g. sick leave, holiday)</li>\n",
    "        </ul>\n",
    "    </li>\n",
    "    <li>sPID-5\n",
    "        <ul>\n",
    "            <li>[item 5]: Others see me as irresponsible.\n",
    "                [item 8]: I worry about almost everything. \n",
    "                [item 9]: I get emotional easily, often for little reason. \n",
    "                [item 21]: I often have thoughts that make sense to me, but that other people say are strange. \n",
    "                [item 24]: Often things around me seem unreal, or more real than usual.</li>\n",
    "        </ul>\n",
    "    </li>\n",
    "</ul>"
   ]
  },
  {
   "cell_type": "markdown",
   "id": "6ff6f30f",
   "metadata": {
    "id": "6ff6f30f"
   },
   "source": [
    "### Appendix\n",
    "##### Items of reference\n",
    "BF_OU[1]: Is outgoing, sociable (extroversion).  \n",
    "BF_CTU[6]: Is relaxed, handles stress well (emotional stability).  \n",
    "BF_OU[7]: Gets nervous easily (emotional stability, reversed).  \n",
    "BF_CTU[8]: Has few artistic interests (openness, reversed).  \n",
    "\n",
    "IADQ[1]: I cannot stop thinking about the stressful event(s) (preoccupation).  \n",
    "IADQ[7]: Affected your relationships or social life? (evidence of functional impairment).  \n",
    "\n",
    "IESR[4]: I avoided letting myself get upset when I thought about it or was reminded of it.  \n",
    "IESR[8]: Pictures about it popped into my mind.  \n",
    "IESR[13]: I found myself acting or feeling like I was back at that time.  \n",
    "IESR[15]: I had waves of strong feelings about it.  \n",
    "IESR[18]: Reminders of it caused me to have physical reactions, such as sweating, trouble breathing, nausea, or a pounding heart.  \n",
    "\n",
    "PCL5[1]: Repeated, disturbing dreams of the stressful experience?  \n",
    "PCL5[4]: Having strong physical reactions when something reminded you of the stressful experience (for example, heart pounding, trouble breathing, sweating)?  \n",
    "PCL5[10]: Having strong negative feelings such as fear, horror, anger, guilt, or shame?  \n",
    "PCL5[12]: Feeling distant or cut off from other people?  \n",
    "\n",
    "PHQ9_GAD7[1]: Feeling down, depressed or hopeless.  \n",
    "PHQ9_GAD7[7]: Moving or speaking so slowly that order people could have noticed? Or the opposite - being so fidgety or restless that you have been moving around a lot more than usual.  \n",
    "PHQ9_GAD7[13]: Being so restless that it is hard to sit still.  \n",
    "\n",
    "PID5[1]: A lot of people are mad at me.  \n",
    "PID5[4]: I often have ideas that are too unusual to explain to anyone.  \n",
    "PID5[35]: I may have difficulty in pointing out the difference between dreams and real life.  \n",
    "PID5[165]: If I hurt other people's feelings, it is nothing exceptional.  \n",
    "PID5[171]: I have been told more than once that I have several strange quirks or habits.  \n",
    "\n",
    "sPID5[4]: Others see me as irresponsible.  \n",
    "sPID5[7]: I worry about almost everything.  \n",
    "sPID5[8]: I get emotional easily, often for little reason.  \n",
    "sPID5[20]: I often have thoughts that make sense to me, but that other people say are strange.  \n",
    "sPID5[23]: Often things around me seem unreal, or more real than usual.  \n",
    "\n",
    "DT_JI[0] (mach1): It’s not wise to tell your secrets.  \n",
    "DT_JI[1] (mach2): I like to use clever manipulation to get my way.  \n",
    "DT_JI[2] (mach3): Whatever it takes, you must get the important people on your side.  \n",
    "DT_CC[4] (mach5): It's wise to keep track of information that you can use against people later.  \n",
    "DT_CC[10] (psycho2): I avoid dangerous situations. (R)  \n",
    "DT_JI[12] (psycho4): People often say I’m out of control.  \n",
    "DT_JI[15] (psycho7): I have never gotten into trouble with the law.  \n",
    "DT_JI[19] (narc2): I hate being the center of attention.  \n",
    "DT_JI[21] (narc4): I know that I am special because everyone keeps telling me so.  \n",
    "DT_JI[23] (narc6): I feel embarrassed if someone compliments me.  \n",
    "\n",
    "R_NEO_PI[1]: non mi piace la musica alta (ESTROVERSIONE Ricerca di stimoli).  \n",
    "R_NEO_PI[5]: mantengo le distanze con gli altri (ESTROVERSIONE Cordialità).  \n",
    "R_NEO_PI[13]: Spreco il mio tempo (COSCIENZIOSITA' Autodisciplina).  \n",
    "R_NEO_PI[21]: Sto bene con me stesso (EQUILIBRIO EMOTIVO Stabilità).  \n",
    "R_NEO_PI[22]: Raramente mi lamento (EQUILIBRIO EMOTIVO Freddezza).  \n",
    "R_NEO_PI[29]: ho difficoltà a immaginarmi le cose (APERTURA MENTALE Immaginazione).  \n",
    "\n",
    "RAW_DDDT[0]: I tend manipulate other people to obtain what I want.  \n",
    "RAW_DDDT[5]: I tend not to care about the morality of my actions.  \n",
    "RAW_DDDT[7]: I tend to be clouds or insensitive.  \n",
    "RAW_DDDT[8]: I tend to want others to admire me.  \n",
    "RAW_DDDT[10]: i tend to want others to pay attention to me.  \n",
    "\n",
    "PRMQ[0]: do you decide to do something in a few minutes time and then forget to do it.  \n",
    "PRMQ[1]: do you fail to recognize a place you have visited before.  \n",
    "PRMQ[7]: do you fail to recall things that have happened to you in the last few days?.  \n",
    "\n",
    "PRFQ[3]: My child cries around strangers to embarrass me.  \n",
    "PRFQ[7]: Try to understand reasons why my child misbehaves.  \n",
    "PRFQ[13]: I can always predict what my child will do.  \n",
    "PRFQ[14]: I always know why i do what i do to my child.  \n",
    "\n",
    "\n",
    "NAQ_R[8]: Being shouted at or being target of spontaneous anger.  \n",
    "NAQ_R[9]: Intimidating behaviors such as finger-pointing, invasion of personal space, shoving, blocking your way.  \n",
    "NAQ_R[12]: Being ignored or facing a hostile reactionwhen you approach.  \n",
    "NAQ_R[14]: Having your opinion ingored.  \n",
    "NAQ_R[19]: Pressure not to claim something to which by right you are entitled (e.g. sick leave, holiday, etc).  "
   ]
  },
  {
   "cell_type": "markdown",
   "id": "963d8e8a",
   "metadata": {
    "id": "963d8e8a"
   },
   "source": [
    "---\n",
    "---\n",
    "---"
   ]
  }
 ],
 "metadata": {
  "colab": {
   "provenance": []
  },
  "kernelspec": {
   "display_name": "Python 3 (ipykernel)",
   "language": "python",
   "name": "python3"
  },
  "language_info": {
   "codemirror_mode": {
    "name": "ipython",
    "version": 3
   },
   "file_extension": ".py",
   "mimetype": "text/x-python",
   "name": "python",
   "nbconvert_exporter": "python",
   "pygments_lexer": "ipython3",
   "version": "3.9.12"
  }
 },
 "nbformat": 4,
 "nbformat_minor": 5
}
